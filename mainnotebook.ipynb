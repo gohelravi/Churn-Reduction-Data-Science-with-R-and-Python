{
 "cells": [
  {
   "cell_type": "markdown",
   "metadata": {},
   "source": [
    "# Churn Reduction"
   ]
  },
  {
   "cell_type": "code",
   "execution_count": 55,
   "metadata": {},
   "outputs": [],
   "source": [
    "#   LOADING THE REQUIRED LIBRARIES\n",
    "\n",
    "import os\n",
    "import pandas as pd\n",
    "import numpy as np\n",
    "from pandas.api.types import CategoricalDtype\n",
    "from fancyimpute import KNN   \n",
    "import matplotlib.pyplot as plt\n",
    "from scipy.stats import chi2_contingency\n",
    "import seaborn as sns\n",
    "from random import randrange, uniform"
   ]
  },
  {
   "cell_type": "code",
   "execution_count": 56,
   "metadata": {},
   "outputs": [
    {
     "data": {
      "text/plain": [
       "'D:\\\\project1\\\\churnreduction'"
      ]
     },
     "execution_count": 56,
     "metadata": {},
     "output_type": "execute_result"
    }
   ],
   "source": [
    "#   CHANGE AND GET THE WORKING DIRECTORY\n",
    "\n",
    "os.chdir(\"D:/project1/churnreduction\")\n",
    "os.getcwd()"
   ]
  },
  {
   "cell_type": "code",
   "execution_count": 57,
   "metadata": {},
   "outputs": [],
   "source": [
    "# LOADING THE DATA TRAIN.CSV AND TEST.CSV\n",
    "\n",
    "train_dataset = pd.read_csv(\"Train_data.csv\")\n",
    "test_dataset = pd.read_csv(\"Test_data.csv\")\n"
   ]
  },
  {
   "cell_type": "code",
   "execution_count": 58,
   "metadata": {},
   "outputs": [
    {
     "data": {
      "text/plain": [
       "pandas.core.frame.DataFrame"
      ]
     },
     "execution_count": 58,
     "metadata": {},
     "output_type": "execute_result"
    }
   ],
   "source": [
    "# GETTING TYPE OF THE DATASETS\n",
    "\n",
    "type(train_dataset)\n",
    "type(test_dataset)"
   ]
  },
  {
   "cell_type": "code",
   "execution_count": 59,
   "metadata": {},
   "outputs": [
    {
     "data": {
      "text/plain": [
       "(3333, 21)"
      ]
     },
     "execution_count": 59,
     "metadata": {},
     "output_type": "execute_result"
    }
   ],
   "source": [
    "# OVERVIEW OF THE TRAIN AND TEST DATASETS\n",
    "\n",
    "\n",
    "train_dataset.head(15)\n",
    "test_dataset.head(10)\n",
    "train_dataset.shape"
   ]
  },
  {
   "cell_type": "code",
   "execution_count": 60,
   "metadata": {},
   "outputs": [],
   "source": [
    "# MERGING TRAIN AND TEST DATASETS INTO \" mydata \" NAMES DATASET\n",
    "\n",
    "\n",
    "train_dataset[\"myindex\"]=1\n",
    "test_dataset[\"myindex\"]=2\n",
    "mydata=train_dataset.append(test_dataset)\n",
    "mydata=mydata.reset_index(drop=True)"
   ]
  },
  {
   "cell_type": "code",
   "execution_count": 61,
   "metadata": {},
   "outputs": [
    {
     "data": {
      "text/plain": [
       "(5000, 22)"
      ]
     },
     "execution_count": 61,
     "metadata": {},
     "output_type": "execute_result"
    }
   ],
   "source": [
    "# OVERVIEW OF THE \"mydata\" DATASET\n",
    "\n",
    "\n",
    "mydata.head()\n",
    "mydata.tail()\n",
    "mydata.shape\n"
   ]
  },
  {
   "cell_type": "code",
   "execution_count": 62,
   "metadata": {},
   "outputs": [
    {
     "name": "stdout",
     "output_type": "stream",
     "text": [
      "<class 'pandas.core.frame.DataFrame'>\n",
      "RangeIndex: 5000 entries, 0 to 4999\n",
      "Data columns (total 22 columns):\n",
      "state                            5000 non-null object\n",
      "account length                   5000 non-null int64\n",
      "area code                        5000 non-null int64\n",
      "phone number                     5000 non-null object\n",
      "international plan               5000 non-null object\n",
      "voice mail plan                  5000 non-null object\n",
      "number vmail messages            5000 non-null int64\n",
      "total day minutes                5000 non-null float64\n",
      "total day calls                  5000 non-null int64\n",
      "total day charge                 5000 non-null float64\n",
      "total eve minutes                5000 non-null float64\n",
      "total eve calls                  5000 non-null int64\n",
      "total eve charge                 5000 non-null float64\n",
      "total night minutes              5000 non-null float64\n",
      "total night calls                5000 non-null int64\n",
      "total night charge               5000 non-null float64\n",
      "total intl minutes               5000 non-null float64\n",
      "total intl calls                 5000 non-null int64\n",
      "total intl charge                5000 non-null float64\n",
      "number customer service calls    5000 non-null int64\n",
      "Churn                            5000 non-null object\n",
      "myindex                          5000 non-null int64\n",
      "dtypes: float64(8), int64(9), object(5)\n",
      "memory usage: 859.5+ KB\n"
     ]
    }
   ],
   "source": [
    "# DATATYPES OF THE ALL THE VARIABLES\n",
    "\n",
    "\n",
    "mydata.info()"
   ]
  },
  {
   "cell_type": "markdown",
   "metadata": {},
   "source": [
    "# MISSING VALUE ANALYSIS"
   ]
  },
  {
   "cell_type": "code",
   "execution_count": 63,
   "metadata": {},
   "outputs": [
    {
     "data": {
      "text/html": [
       "<div>\n",
       "<style scoped>\n",
       "    .dataframe tbody tr th:only-of-type {\n",
       "        vertical-align: middle;\n",
       "    }\n",
       "\n",
       "    .dataframe tbody tr th {\n",
       "        vertical-align: top;\n",
       "    }\n",
       "\n",
       "    .dataframe thead th {\n",
       "        text-align: right;\n",
       "    }\n",
       "</style>\n",
       "<table border=\"1\" class=\"dataframe\">\n",
       "  <thead>\n",
       "    <tr style=\"text-align: right;\">\n",
       "      <th></th>\n",
       "      <th>0</th>\n",
       "    </tr>\n",
       "  </thead>\n",
       "  <tbody>\n",
       "    <tr>\n",
       "      <th>state</th>\n",
       "      <td>0</td>\n",
       "    </tr>\n",
       "    <tr>\n",
       "      <th>account length</th>\n",
       "      <td>0</td>\n",
       "    </tr>\n",
       "    <tr>\n",
       "      <th>area code</th>\n",
       "      <td>0</td>\n",
       "    </tr>\n",
       "    <tr>\n",
       "      <th>phone number</th>\n",
       "      <td>0</td>\n",
       "    </tr>\n",
       "    <tr>\n",
       "      <th>international plan</th>\n",
       "      <td>0</td>\n",
       "    </tr>\n",
       "    <tr>\n",
       "      <th>voice mail plan</th>\n",
       "      <td>0</td>\n",
       "    </tr>\n",
       "    <tr>\n",
       "      <th>number vmail messages</th>\n",
       "      <td>0</td>\n",
       "    </tr>\n",
       "    <tr>\n",
       "      <th>total day minutes</th>\n",
       "      <td>0</td>\n",
       "    </tr>\n",
       "    <tr>\n",
       "      <th>total day calls</th>\n",
       "      <td>0</td>\n",
       "    </tr>\n",
       "    <tr>\n",
       "      <th>total day charge</th>\n",
       "      <td>0</td>\n",
       "    </tr>\n",
       "    <tr>\n",
       "      <th>total eve minutes</th>\n",
       "      <td>0</td>\n",
       "    </tr>\n",
       "    <tr>\n",
       "      <th>total eve calls</th>\n",
       "      <td>0</td>\n",
       "    </tr>\n",
       "    <tr>\n",
       "      <th>total eve charge</th>\n",
       "      <td>0</td>\n",
       "    </tr>\n",
       "    <tr>\n",
       "      <th>total night minutes</th>\n",
       "      <td>0</td>\n",
       "    </tr>\n",
       "    <tr>\n",
       "      <th>total night calls</th>\n",
       "      <td>0</td>\n",
       "    </tr>\n",
       "    <tr>\n",
       "      <th>total night charge</th>\n",
       "      <td>0</td>\n",
       "    </tr>\n",
       "    <tr>\n",
       "      <th>total intl minutes</th>\n",
       "      <td>0</td>\n",
       "    </tr>\n",
       "    <tr>\n",
       "      <th>total intl calls</th>\n",
       "      <td>0</td>\n",
       "    </tr>\n",
       "    <tr>\n",
       "      <th>total intl charge</th>\n",
       "      <td>0</td>\n",
       "    </tr>\n",
       "    <tr>\n",
       "      <th>number customer service calls</th>\n",
       "      <td>0</td>\n",
       "    </tr>\n",
       "    <tr>\n",
       "      <th>Churn</th>\n",
       "      <td>0</td>\n",
       "    </tr>\n",
       "    <tr>\n",
       "      <th>myindex</th>\n",
       "      <td>0</td>\n",
       "    </tr>\n",
       "  </tbody>\n",
       "</table>\n",
       "</div>"
      ],
      "text/plain": [
       "                               0\n",
       "state                          0\n",
       "account length                 0\n",
       "area code                      0\n",
       "phone number                   0\n",
       "international plan             0\n",
       "voice mail plan                0\n",
       "number vmail messages          0\n",
       "total day minutes              0\n",
       "total day calls                0\n",
       "total day charge               0\n",
       "total eve minutes              0\n",
       "total eve calls                0\n",
       "total eve charge               0\n",
       "total night minutes            0\n",
       "total night calls              0\n",
       "total night charge             0\n",
       "total intl minutes             0\n",
       "total intl calls               0\n",
       "total intl charge              0\n",
       "number customer service calls  0\n",
       "Churn                          0\n",
       "myindex                        0"
      ]
     },
     "execution_count": 63,
     "metadata": {},
     "output_type": "execute_result"
    }
   ],
   "source": [
    "# GETTING MISSING VALUES OF THE DATASET INTO \" missing_val\"\n",
    "\n",
    "\n",
    "missing_val = pd.DataFrame(mydata.isnull().sum())\n",
    "missing_val"
   ]
  },
  {
   "cell_type": "markdown",
   "metadata": {},
   "source": [
    "# DATA MANIPULATION"
   ]
  },
  {
   "cell_type": "code",
   "execution_count": 64,
   "metadata": {},
   "outputs": [
    {
     "data": {
      "text/plain": [
       "Index(['state', 'account length', 'area code', 'phone number',\n",
       "       'international plan', 'voice mail plan', 'number vmail messages',\n",
       "       'total day minutes', 'total day calls', 'total day charge',\n",
       "       'total eve minutes', 'total eve calls', 'total eve charge',\n",
       "       'total night minutes', 'total night calls', 'total night charge',\n",
       "       'total intl minutes', 'total intl calls', 'total intl charge',\n",
       "       'number customer service calls', 'Churn', 'myindex'],\n",
       "      dtype='object')"
      ]
     },
     "execution_count": 64,
     "metadata": {},
     "output_type": "execute_result"
    }
   ],
   "source": [
    "# GETTING COLUMN NAMES OF ALL THE VARIABLE OF THE DATASET\n",
    "\n",
    "\n",
    "mydata.columns\n"
   ]
  },
  {
   "cell_type": "code",
   "execution_count": 65,
   "metadata": {},
   "outputs": [
    {
     "name": "stdout",
     "output_type": "stream",
     "text": [
      "<class 'pandas.core.frame.DataFrame'>\n",
      "RangeIndex: 5000 entries, 0 to 4999\n",
      "Data columns (total 22 columns):\n",
      "state                            5000 non-null object\n",
      "account length                   5000 non-null int64\n",
      "area code                        5000 non-null object\n",
      "phone number                     5000 non-null object\n",
      "international plan               5000 non-null object\n",
      "voice mail plan                  5000 non-null object\n",
      "number vmail messages            5000 non-null int64\n",
      "total day minutes                5000 non-null float64\n",
      "total day calls                  5000 non-null int64\n",
      "total day charge                 5000 non-null float64\n",
      "total eve minutes                5000 non-null float64\n",
      "total eve calls                  5000 non-null int64\n",
      "total eve charge                 5000 non-null float64\n",
      "total night minutes              5000 non-null float64\n",
      "total night calls                5000 non-null int64\n",
      "total night charge               5000 non-null float64\n",
      "total intl minutes               5000 non-null float64\n",
      "total intl calls                 5000 non-null int64\n",
      "total intl charge                5000 non-null float64\n",
      "number customer service calls    5000 non-null int64\n",
      "Churn                            5000 non-null object\n",
      "myindex                          5000 non-null int64\n",
      "dtypes: float64(8), int64(8), object(6)\n",
      "memory usage: 859.5+ KB\n"
     ]
    },
    {
     "data": {
      "text/html": [
       "<div>\n",
       "<style scoped>\n",
       "    .dataframe tbody tr th:only-of-type {\n",
       "        vertical-align: middle;\n",
       "    }\n",
       "\n",
       "    .dataframe tbody tr th {\n",
       "        vertical-align: top;\n",
       "    }\n",
       "\n",
       "    .dataframe thead th {\n",
       "        text-align: right;\n",
       "    }\n",
       "</style>\n",
       "<table border=\"1\" class=\"dataframe\">\n",
       "  <thead>\n",
       "    <tr style=\"text-align: right;\">\n",
       "      <th></th>\n",
       "      <th>state</th>\n",
       "      <th>account length</th>\n",
       "      <th>area code</th>\n",
       "      <th>phone number</th>\n",
       "      <th>international plan</th>\n",
       "      <th>voice mail plan</th>\n",
       "      <th>number vmail messages</th>\n",
       "      <th>total day minutes</th>\n",
       "      <th>total day calls</th>\n",
       "      <th>total day charge</th>\n",
       "      <th>...</th>\n",
       "      <th>total eve charge</th>\n",
       "      <th>total night minutes</th>\n",
       "      <th>total night calls</th>\n",
       "      <th>total night charge</th>\n",
       "      <th>total intl minutes</th>\n",
       "      <th>total intl calls</th>\n",
       "      <th>total intl charge</th>\n",
       "      <th>number customer service calls</th>\n",
       "      <th>Churn</th>\n",
       "      <th>myindex</th>\n",
       "    </tr>\n",
       "  </thead>\n",
       "  <tbody>\n",
       "    <tr>\n",
       "      <th>0</th>\n",
       "      <td>KS</td>\n",
       "      <td>128</td>\n",
       "      <td>415</td>\n",
       "      <td>382-4657</td>\n",
       "      <td>no</td>\n",
       "      <td>yes</td>\n",
       "      <td>25</td>\n",
       "      <td>265.1</td>\n",
       "      <td>110</td>\n",
       "      <td>45.07</td>\n",
       "      <td>...</td>\n",
       "      <td>16.78</td>\n",
       "      <td>244.7</td>\n",
       "      <td>91</td>\n",
       "      <td>11.01</td>\n",
       "      <td>10.0</td>\n",
       "      <td>3</td>\n",
       "      <td>2.70</td>\n",
       "      <td>1</td>\n",
       "      <td>False.</td>\n",
       "      <td>1</td>\n",
       "    </tr>\n",
       "    <tr>\n",
       "      <th>1</th>\n",
       "      <td>OH</td>\n",
       "      <td>107</td>\n",
       "      <td>415</td>\n",
       "      <td>371-7191</td>\n",
       "      <td>no</td>\n",
       "      <td>yes</td>\n",
       "      <td>26</td>\n",
       "      <td>161.6</td>\n",
       "      <td>123</td>\n",
       "      <td>27.47</td>\n",
       "      <td>...</td>\n",
       "      <td>16.62</td>\n",
       "      <td>254.4</td>\n",
       "      <td>103</td>\n",
       "      <td>11.45</td>\n",
       "      <td>13.7</td>\n",
       "      <td>3</td>\n",
       "      <td>3.70</td>\n",
       "      <td>1</td>\n",
       "      <td>False.</td>\n",
       "      <td>1</td>\n",
       "    </tr>\n",
       "    <tr>\n",
       "      <th>2</th>\n",
       "      <td>NJ</td>\n",
       "      <td>137</td>\n",
       "      <td>415</td>\n",
       "      <td>358-1921</td>\n",
       "      <td>no</td>\n",
       "      <td>no</td>\n",
       "      <td>0</td>\n",
       "      <td>243.4</td>\n",
       "      <td>114</td>\n",
       "      <td>41.38</td>\n",
       "      <td>...</td>\n",
       "      <td>10.30</td>\n",
       "      <td>162.6</td>\n",
       "      <td>104</td>\n",
       "      <td>7.32</td>\n",
       "      <td>12.2</td>\n",
       "      <td>5</td>\n",
       "      <td>3.29</td>\n",
       "      <td>0</td>\n",
       "      <td>False.</td>\n",
       "      <td>1</td>\n",
       "    </tr>\n",
       "    <tr>\n",
       "      <th>3</th>\n",
       "      <td>OH</td>\n",
       "      <td>84</td>\n",
       "      <td>408</td>\n",
       "      <td>375-9999</td>\n",
       "      <td>yes</td>\n",
       "      <td>no</td>\n",
       "      <td>0</td>\n",
       "      <td>299.4</td>\n",
       "      <td>71</td>\n",
       "      <td>50.90</td>\n",
       "      <td>...</td>\n",
       "      <td>5.26</td>\n",
       "      <td>196.9</td>\n",
       "      <td>89</td>\n",
       "      <td>8.86</td>\n",
       "      <td>6.6</td>\n",
       "      <td>7</td>\n",
       "      <td>1.78</td>\n",
       "      <td>2</td>\n",
       "      <td>False.</td>\n",
       "      <td>1</td>\n",
       "    </tr>\n",
       "    <tr>\n",
       "      <th>4</th>\n",
       "      <td>OK</td>\n",
       "      <td>75</td>\n",
       "      <td>415</td>\n",
       "      <td>330-6626</td>\n",
       "      <td>yes</td>\n",
       "      <td>no</td>\n",
       "      <td>0</td>\n",
       "      <td>166.7</td>\n",
       "      <td>113</td>\n",
       "      <td>28.34</td>\n",
       "      <td>...</td>\n",
       "      <td>12.61</td>\n",
       "      <td>186.9</td>\n",
       "      <td>121</td>\n",
       "      <td>8.41</td>\n",
       "      <td>10.1</td>\n",
       "      <td>3</td>\n",
       "      <td>2.73</td>\n",
       "      <td>3</td>\n",
       "      <td>False.</td>\n",
       "      <td>1</td>\n",
       "    </tr>\n",
       "  </tbody>\n",
       "</table>\n",
       "<p>5 rows × 22 columns</p>\n",
       "</div>"
      ],
      "text/plain": [
       "  state  account length area code phone number international plan  \\\n",
       "0    KS             128       415     382-4657                 no   \n",
       "1    OH             107       415     371-7191                 no   \n",
       "2    NJ             137       415     358-1921                 no   \n",
       "3    OH              84       408     375-9999                yes   \n",
       "4    OK              75       415     330-6626                yes   \n",
       "\n",
       "  voice mail plan  number vmail messages  total day minutes  total day calls  \\\n",
       "0             yes                     25              265.1              110   \n",
       "1             yes                     26              161.6              123   \n",
       "2              no                      0              243.4              114   \n",
       "3              no                      0              299.4               71   \n",
       "4              no                      0              166.7              113   \n",
       "\n",
       "   total day charge   ...     total eve charge  total night minutes  \\\n",
       "0             45.07   ...                16.78                244.7   \n",
       "1             27.47   ...                16.62                254.4   \n",
       "2             41.38   ...                10.30                162.6   \n",
       "3             50.90   ...                 5.26                196.9   \n",
       "4             28.34   ...                12.61                186.9   \n",
       "\n",
       "   total night calls  total night charge  total intl minutes  \\\n",
       "0                 91               11.01                10.0   \n",
       "1                103               11.45                13.7   \n",
       "2                104                7.32                12.2   \n",
       "3                 89                8.86                 6.6   \n",
       "4                121                8.41                10.1   \n",
       "\n",
       "   total intl calls  total intl charge  number customer service calls  \\\n",
       "0                 3               2.70                              1   \n",
       "1                 3               3.70                              1   \n",
       "2                 5               3.29                              0   \n",
       "3                 7               1.78                              2   \n",
       "4                 3               2.73                              3   \n",
       "\n",
       "     Churn  myindex  \n",
       "0   False.        1  \n",
       "1   False.        1  \n",
       "2   False.        1  \n",
       "3   False.        1  \n",
       "4   False.        1  \n",
       "\n",
       "[5 rows x 22 columns]"
      ]
     },
     "execution_count": 65,
     "metadata": {},
     "output_type": "execute_result"
    }
   ],
   "source": [
    "#GETTING UNIQUE VALUES OF \" area code \" VARIABLE\n",
    "\n",
    "mydata['area code'].unique()\n",
    "\n",
    "#CONVERTING \"area code\" VARIABLE'S DATA TYPE TO OBJECT FROM INT64\n",
    "\n",
    "mydata['area code']=mydata['area code'].astype(object)\n",
    "mydata.info()\n",
    "mydata.head()"
   ]
  },
  {
   "cell_type": "code",
   "execution_count": 66,
   "metadata": {},
   "outputs": [
    {
     "data": {
      "text/plain": [
       "array(['KS', 'OH', 'NJ', 'OK', 'AL', 'MA', 'MO', 'LA', 'WV', 'IN', 'RI',\n",
       "       'IA', 'MT', 'NY', 'ID', 'VT', 'VA', 'TX', 'FL', 'CO', 'AZ', 'SC',\n",
       "       'NE', 'WY', 'HI', 'IL', 'NH', 'GA', 'AK', 'MD', 'AR', 'WI', 'OR',\n",
       "       'MI', 'DE', 'UT', 'CA', 'MN', 'SD', 'NC', 'WA', 'NM', 'NV', 'DC',\n",
       "       'KY', 'ME', 'MS', 'TN', 'PA', 'CT', 'ND'], dtype=object)"
      ]
     },
     "execution_count": 66,
     "metadata": {},
     "output_type": "execute_result"
    }
   ],
   "source": [
    "# GETTING UNIQUE VALUES OF \" state \" VARIABLE\n",
    "\n",
    "mydata['state'].unique()"
   ]
  },
  {
   "cell_type": "code",
   "execution_count": 67,
   "metadata": {},
   "outputs": [],
   "source": [
    "# ASSIGNING LEVELS TO ALL THE OBJECT TYPE VARIABLES\n",
    "\n",
    "\n",
    "lis = []\n",
    "for i in range(0, mydata.shape[1]):\n",
    "    #print(i)\n",
    "    if(mydata.iloc[:,i].dtypes == 'object'):\n",
    "           \n",
    "        mydata.iloc[:,i] = pd.Categorical(mydata.iloc[:,i])\n",
    "       \n",
    "        mydata.iloc[:,i] = mydata.iloc[:,i].cat.codes\n",
    "   \n",
    "        mydata.iloc[:,i] = mydata.iloc[:,i].astype('object')\n",
    "        \n",
    "        lis.append(mydata.columns[i])"
   ]
  },
  {
   "cell_type": "code",
   "execution_count": 68,
   "metadata": {},
   "outputs": [
    {
     "data": {
      "text/html": [
       "<div>\n",
       "<style scoped>\n",
       "    .dataframe tbody tr th:only-of-type {\n",
       "        vertical-align: middle;\n",
       "    }\n",
       "\n",
       "    .dataframe tbody tr th {\n",
       "        vertical-align: top;\n",
       "    }\n",
       "\n",
       "    .dataframe thead th {\n",
       "        text-align: right;\n",
       "    }\n",
       "</style>\n",
       "<table border=\"1\" class=\"dataframe\">\n",
       "  <thead>\n",
       "    <tr style=\"text-align: right;\">\n",
       "      <th></th>\n",
       "      <th>state</th>\n",
       "      <th>account length</th>\n",
       "      <th>area code</th>\n",
       "      <th>phone number</th>\n",
       "      <th>international plan</th>\n",
       "      <th>voice mail plan</th>\n",
       "      <th>number vmail messages</th>\n",
       "      <th>total day minutes</th>\n",
       "      <th>total day calls</th>\n",
       "      <th>total day charge</th>\n",
       "      <th>...</th>\n",
       "      <th>total eve charge</th>\n",
       "      <th>total night minutes</th>\n",
       "      <th>total night calls</th>\n",
       "      <th>total night charge</th>\n",
       "      <th>total intl minutes</th>\n",
       "      <th>total intl calls</th>\n",
       "      <th>total intl charge</th>\n",
       "      <th>number customer service calls</th>\n",
       "      <th>Churn</th>\n",
       "      <th>myindex</th>\n",
       "    </tr>\n",
       "  </thead>\n",
       "  <tbody>\n",
       "    <tr>\n",
       "      <th>0</th>\n",
       "      <td>16</td>\n",
       "      <td>128</td>\n",
       "      <td>1</td>\n",
       "      <td>2845</td>\n",
       "      <td>0</td>\n",
       "      <td>1</td>\n",
       "      <td>25</td>\n",
       "      <td>265.1</td>\n",
       "      <td>110</td>\n",
       "      <td>45.07</td>\n",
       "      <td>...</td>\n",
       "      <td>16.78</td>\n",
       "      <td>244.7</td>\n",
       "      <td>91</td>\n",
       "      <td>11.01</td>\n",
       "      <td>10.0</td>\n",
       "      <td>3</td>\n",
       "      <td>2.70</td>\n",
       "      <td>1</td>\n",
       "      <td>0</td>\n",
       "      <td>1</td>\n",
       "    </tr>\n",
       "    <tr>\n",
       "      <th>1</th>\n",
       "      <td>35</td>\n",
       "      <td>107</td>\n",
       "      <td>1</td>\n",
       "      <td>2301</td>\n",
       "      <td>0</td>\n",
       "      <td>1</td>\n",
       "      <td>26</td>\n",
       "      <td>161.6</td>\n",
       "      <td>123</td>\n",
       "      <td>27.47</td>\n",
       "      <td>...</td>\n",
       "      <td>16.62</td>\n",
       "      <td>254.4</td>\n",
       "      <td>103</td>\n",
       "      <td>11.45</td>\n",
       "      <td>13.7</td>\n",
       "      <td>3</td>\n",
       "      <td>3.70</td>\n",
       "      <td>1</td>\n",
       "      <td>0</td>\n",
       "      <td>1</td>\n",
       "    </tr>\n",
       "    <tr>\n",
       "      <th>2</th>\n",
       "      <td>31</td>\n",
       "      <td>137</td>\n",
       "      <td>1</td>\n",
       "      <td>1616</td>\n",
       "      <td>0</td>\n",
       "      <td>0</td>\n",
       "      <td>0</td>\n",
       "      <td>243.4</td>\n",
       "      <td>114</td>\n",
       "      <td>41.38</td>\n",
       "      <td>...</td>\n",
       "      <td>10.30</td>\n",
       "      <td>162.6</td>\n",
       "      <td>104</td>\n",
       "      <td>7.32</td>\n",
       "      <td>12.2</td>\n",
       "      <td>5</td>\n",
       "      <td>3.29</td>\n",
       "      <td>0</td>\n",
       "      <td>0</td>\n",
       "      <td>1</td>\n",
       "    </tr>\n",
       "    <tr>\n",
       "      <th>3</th>\n",
       "      <td>35</td>\n",
       "      <td>84</td>\n",
       "      <td>0</td>\n",
       "      <td>2510</td>\n",
       "      <td>1</td>\n",
       "      <td>0</td>\n",
       "      <td>0</td>\n",
       "      <td>299.4</td>\n",
       "      <td>71</td>\n",
       "      <td>50.90</td>\n",
       "      <td>...</td>\n",
       "      <td>5.26</td>\n",
       "      <td>196.9</td>\n",
       "      <td>89</td>\n",
       "      <td>8.86</td>\n",
       "      <td>6.6</td>\n",
       "      <td>7</td>\n",
       "      <td>1.78</td>\n",
       "      <td>2</td>\n",
       "      <td>0</td>\n",
       "      <td>1</td>\n",
       "    </tr>\n",
       "    <tr>\n",
       "      <th>4</th>\n",
       "      <td>36</td>\n",
       "      <td>75</td>\n",
       "      <td>1</td>\n",
       "      <td>155</td>\n",
       "      <td>1</td>\n",
       "      <td>0</td>\n",
       "      <td>0</td>\n",
       "      <td>166.7</td>\n",
       "      <td>113</td>\n",
       "      <td>28.34</td>\n",
       "      <td>...</td>\n",
       "      <td>12.61</td>\n",
       "      <td>186.9</td>\n",
       "      <td>121</td>\n",
       "      <td>8.41</td>\n",
       "      <td>10.1</td>\n",
       "      <td>3</td>\n",
       "      <td>2.73</td>\n",
       "      <td>3</td>\n",
       "      <td>0</td>\n",
       "      <td>1</td>\n",
       "    </tr>\n",
       "  </tbody>\n",
       "</table>\n",
       "<p>5 rows × 22 columns</p>\n",
       "</div>"
      ],
      "text/plain": [
       "  state  account length area code phone number international plan  \\\n",
       "0    16             128         1         2845                  0   \n",
       "1    35             107         1         2301                  0   \n",
       "2    31             137         1         1616                  0   \n",
       "3    35              84         0         2510                  1   \n",
       "4    36              75         1          155                  1   \n",
       "\n",
       "  voice mail plan  number vmail messages  total day minutes  total day calls  \\\n",
       "0               1                     25              265.1              110   \n",
       "1               1                     26              161.6              123   \n",
       "2               0                      0              243.4              114   \n",
       "3               0                      0              299.4               71   \n",
       "4               0                      0              166.7              113   \n",
       "\n",
       "   total day charge   ...     total eve charge  total night minutes  \\\n",
       "0             45.07   ...                16.78                244.7   \n",
       "1             27.47   ...                16.62                254.4   \n",
       "2             41.38   ...                10.30                162.6   \n",
       "3             50.90   ...                 5.26                196.9   \n",
       "4             28.34   ...                12.61                186.9   \n",
       "\n",
       "   total night calls  total night charge  total intl minutes  \\\n",
       "0                 91               11.01                10.0   \n",
       "1                103               11.45                13.7   \n",
       "2                104                7.32                12.2   \n",
       "3                 89                8.86                 6.6   \n",
       "4                121                8.41                10.1   \n",
       "\n",
       "   total intl calls  total intl charge  number customer service calls  Churn  \\\n",
       "0                 3               2.70                              1      0   \n",
       "1                 3               3.70                              1      0   \n",
       "2                 5               3.29                              0      0   \n",
       "3                 7               1.78                              2      0   \n",
       "4                 3               2.73                              3      0   \n",
       "\n",
       "   myindex  \n",
       "0        1  \n",
       "1        1  \n",
       "2        1  \n",
       "3        1  \n",
       "4        1  \n",
       "\n",
       "[5 rows x 22 columns]"
      ]
     },
     "execution_count": 68,
     "metadata": {},
     "output_type": "execute_result"
    }
   ],
   "source": [
    "mydata.head()"
   ]
  },
  {
   "cell_type": "code",
   "execution_count": 69,
   "metadata": {},
   "outputs": [
    {
     "name": "stdout",
     "output_type": "stream",
     "text": [
      "<class 'pandas.core.frame.DataFrame'>\n",
      "RangeIndex: 5000 entries, 0 to 4999\n",
      "Data columns (total 22 columns):\n",
      "state                            5000 non-null object\n",
      "account length                   5000 non-null int64\n",
      "area code                        5000 non-null object\n",
      "phone number                     5000 non-null object\n",
      "international plan               5000 non-null object\n",
      "voice mail plan                  5000 non-null object\n",
      "number vmail messages            5000 non-null int64\n",
      "total day minutes                5000 non-null float64\n",
      "total day calls                  5000 non-null int64\n",
      "total day charge                 5000 non-null float64\n",
      "total eve minutes                5000 non-null float64\n",
      "total eve calls                  5000 non-null int64\n",
      "total eve charge                 5000 non-null float64\n",
      "total night minutes              5000 non-null float64\n",
      "total night calls                5000 non-null int64\n",
      "total night charge               5000 non-null float64\n",
      "total intl minutes               5000 non-null float64\n",
      "total intl calls                 5000 non-null int64\n",
      "total intl charge                5000 non-null float64\n",
      "number customer service calls    5000 non-null int64\n",
      "Churn                            5000 non-null object\n",
      "myindex                          5000 non-null int64\n",
      "dtypes: float64(8), int64(8), object(6)\n",
      "memory usage: 859.5+ KB\n"
     ]
    }
   ],
   "source": [
    "mydata.info()"
   ]
  },
  {
   "cell_type": "markdown",
   "metadata": {},
   "source": [
    "# OUTLIER  ANALYSIS"
   ]
  },
  {
   "cell_type": "code",
   "execution_count": 70,
   "metadata": {},
   "outputs": [],
   "source": [
    "# GETTING ALL THE NUMERIC COLUMN NAMES OF THE DATASET INTO \" cnames\"\n",
    "\n",
    "\n",
    "cnames=['account length', 'number vmail messages',\n",
    "       'total day minutes', 'total day calls', 'total day charge',\n",
    "       'total eve minutes', 'total eve calls', 'total eve charge',\n",
    "       'total night minutes', 'total night calls', 'total night charge',\n",
    "       'total intl minutes', 'total intl calls', 'total intl charge',\n",
    "       'number customer service calls',]\n",
    "\n",
    "\n",
    "               "
   ]
  },
  {
   "cell_type": "code",
   "execution_count": 71,
   "metadata": {},
   "outputs": [
    {
     "data": {
      "text/plain": [
       "{'whiskers': [<matplotlib.lines.Line2D at 0x19eed668>,\n",
       "  <matplotlib.lines.Line2D at 0x19eed9b0>],\n",
       " 'caps': [<matplotlib.lines.Line2D at 0x19eedcf8>,\n",
       "  <matplotlib.lines.Line2D at 0x19eeddd8>],\n",
       " 'boxes': [<matplotlib.lines.Line2D at 0x19eed2b0>],\n",
       " 'medians': [<matplotlib.lines.Line2D at 0x19ef53c8>],\n",
       " 'fliers': [<matplotlib.lines.Line2D at 0x19ef5710>],\n",
       " 'means': []}"
      ]
     },
     "execution_count": 71,
     "metadata": {},
     "output_type": "execute_result"
    },
    {
     "data": {
      "image/png": "[encoded data removed]",
      "text/plain": [
       "<Figure size 432x288 with 1 Axes>"
      ]
     },
     "metadata": {
      "needs_background": "light"
     },
     "output_type": "display_data"
    }
   ],
   "source": [
    "# PLOTTING BOXPLOT TO VISUALIZE OUTLIERS OF THE VARIABLE\n",
    "\n",
    "%matplotlib inline  \n",
    "plt.boxplot(mydata['account length'])\n"
   ]
  },
  {
   "cell_type": "code",
   "execution_count": 72,
   "metadata": {},
   "outputs": [
    {
     "name": "stdout",
     "output_type": "stream",
     "text": [
      "account length\n",
      "-8.0\n",
      "208.0\n",
      "number vmail messages\n",
      "-25.5\n",
      "42.5\n",
      "total day minutes\n",
      "34.94999999999999\n",
      "324.95\n",
      "total day calls\n",
      "48.0\n",
      "152.0\n",
      "total day charge\n",
      "5.949999999999999\n",
      "55.230000000000004\n",
      "total eve minutes\n",
      "64.78750000000001\n",
      "335.6875\n",
      "total eve calls\n",
      "46.5\n",
      "154.5\n",
      "total eve charge\n",
      "5.5000000000000036\n",
      "28.539999999999996\n",
      "total night minutes\n",
      "65.20000000000003\n",
      "336.4\n",
      "total night calls\n",
      "48.0\n",
      "152.0\n",
      "total night charge\n",
      "2.9349999999999987\n",
      "15.135000000000002\n",
      "total intl minutes\n",
      "3.25\n",
      "17.25\n",
      "total intl calls\n",
      "-1.5\n",
      "10.5\n",
      "total intl charge\n",
      "0.8899999999999992\n",
      "4.65\n",
      "number customer service calls\n",
      "-0.5\n",
      "3.5\n"
     ]
    }
   ],
   "source": [
    "# DETECTING OUTLIERS AND REPLACING IT WITH NA(NULL VALUE)\n",
    "\n",
    "\n",
    "for i in cnames:\n",
    "    print(i)\n",
    "    q75, q25 = np.percentile(mydata.loc[:,i], [75 ,25])\n",
    "    iqr = q75 - q25\n",
    "    min = q25 - (iqr*1.5)\n",
    "    max = q75 + (iqr*1.5)\n",
    "    print(min)\n",
    "    print(max)\n",
    "    # #Replace with NA\n",
    "    mydata.loc[mydata[i] < min,i]=np.nan\n",
    "    mydata.loc[mydata[i] > max,i]=np.nan"
   ]
  },
  {
   "cell_type": "code",
   "execution_count": 73,
   "metadata": {},
   "outputs": [],
   "source": [
    "# AFTER REPLACING OUTLIERS WITH NA GETTING THE MISSING VALUES INTO THE DATASETS\n",
    "\n",
    "\n",
    "missing_val = pd.DataFrame(mydata.isnull().sum())\n"
   ]
  },
  {
   "cell_type": "code",
   "execution_count": 74,
   "metadata": {},
   "outputs": [
    {
     "data": {
      "text/html": [
       "<div>\n",
       "<style scoped>\n",
       "    .dataframe tbody tr th:only-of-type {\n",
       "        vertical-align: middle;\n",
       "    }\n",
       "\n",
       "    .dataframe tbody tr th {\n",
       "        vertical-align: top;\n",
       "    }\n",
       "\n",
       "    .dataframe thead th {\n",
       "        text-align: right;\n",
       "    }\n",
       "</style>\n",
       "<table border=\"1\" class=\"dataframe\">\n",
       "  <thead>\n",
       "    <tr style=\"text-align: right;\">\n",
       "      <th></th>\n",
       "      <th>0</th>\n",
       "    </tr>\n",
       "  </thead>\n",
       "  <tbody>\n",
       "    <tr>\n",
       "      <th>state</th>\n",
       "      <td>0</td>\n",
       "    </tr>\n",
       "    <tr>\n",
       "      <th>account length</th>\n",
       "      <td>24</td>\n",
       "    </tr>\n",
       "    <tr>\n",
       "      <th>area code</th>\n",
       "      <td>0</td>\n",
       "    </tr>\n",
       "    <tr>\n",
       "      <th>phone number</th>\n",
       "      <td>0</td>\n",
       "    </tr>\n",
       "    <tr>\n",
       "      <th>international plan</th>\n",
       "      <td>0</td>\n",
       "    </tr>\n",
       "    <tr>\n",
       "      <th>voice mail plan</th>\n",
       "      <td>0</td>\n",
       "    </tr>\n",
       "    <tr>\n",
       "      <th>number vmail messages</th>\n",
       "      <td>60</td>\n",
       "    </tr>\n",
       "    <tr>\n",
       "      <th>total day minutes</th>\n",
       "      <td>34</td>\n",
       "    </tr>\n",
       "    <tr>\n",
       "      <th>total day calls</th>\n",
       "      <td>35</td>\n",
       "    </tr>\n",
       "    <tr>\n",
       "      <th>total day charge</th>\n",
       "      <td>34</td>\n",
       "    </tr>\n",
       "    <tr>\n",
       "      <th>total eve minutes</th>\n",
       "      <td>43</td>\n",
       "    </tr>\n",
       "    <tr>\n",
       "      <th>total eve calls</th>\n",
       "      <td>27</td>\n",
       "    </tr>\n",
       "    <tr>\n",
       "      <th>total eve charge</th>\n",
       "      <td>42</td>\n",
       "    </tr>\n",
       "    <tr>\n",
       "      <th>total night minutes</th>\n",
       "      <td>39</td>\n",
       "    </tr>\n",
       "    <tr>\n",
       "      <th>total night calls</th>\n",
       "      <td>43</td>\n",
       "    </tr>\n",
       "    <tr>\n",
       "      <th>total night charge</th>\n",
       "      <td>39</td>\n",
       "    </tr>\n",
       "    <tr>\n",
       "      <th>total intl minutes</th>\n",
       "      <td>72</td>\n",
       "    </tr>\n",
       "    <tr>\n",
       "      <th>total intl calls</th>\n",
       "      <td>118</td>\n",
       "    </tr>\n",
       "    <tr>\n",
       "      <th>total intl charge</th>\n",
       "      <td>72</td>\n",
       "    </tr>\n",
       "    <tr>\n",
       "      <th>number customer service calls</th>\n",
       "      <td>399</td>\n",
       "    </tr>\n",
       "    <tr>\n",
       "      <th>Churn</th>\n",
       "      <td>0</td>\n",
       "    </tr>\n",
       "    <tr>\n",
       "      <th>myindex</th>\n",
       "      <td>0</td>\n",
       "    </tr>\n",
       "  </tbody>\n",
       "</table>\n",
       "</div>"
      ],
      "text/plain": [
       "                                 0\n",
       "state                            0\n",
       "account length                  24\n",
       "area code                        0\n",
       "phone number                     0\n",
       "international plan               0\n",
       "voice mail plan                  0\n",
       "number vmail messages           60\n",
       "total day minutes               34\n",
       "total day calls                 35\n",
       "total day charge                34\n",
       "total eve minutes               43\n",
       "total eve calls                 27\n",
       "total eve charge                42\n",
       "total night minutes             39\n",
       "total night calls               43\n",
       "total night charge              39\n",
       "total intl minutes              72\n",
       "total intl calls               118\n",
       "total intl charge               72\n",
       "number customer service calls  399\n",
       "Churn                            0\n",
       "myindex                          0"
      ]
     },
     "execution_count": 74,
     "metadata": {},
     "output_type": "execute_result"
    }
   ],
   "source": [
    "missing_val"
   ]
  },
  {
   "cell_type": "markdown",
   "metadata": {},
   "source": [
    "** when i was trying the missing value imputation using KNN imputation as taught us in lecture, the error shows that \"there is no complete attribute in KNN\". Which i asked to mentor , i am suggested to use different imputation methods, even i am shared one link for reference,i refered it but it was little tough for me to implement as well as i have less time to complete the project so here i am using imputation with mean value."
   ]
  },
  {
   "cell_type": "code",
   "execution_count": 75,
   "metadata": {},
   "outputs": [],
   "source": [
    "#IMPUTING NULL VALUES WITH MEAN VALUE\n",
    "\n",
    "mydata.fillna(mydata.mean(),inplace=True)\n"
   ]
  },
  {
   "cell_type": "markdown",
   "metadata": {},
   "source": [
    "# FEATURE SELECTION"
   ]
  },
  {
   "cell_type": "code",
   "execution_count": 76,
   "metadata": {},
   "outputs": [
    {
     "data": {
      "text/plain": [
       "<matplotlib.axes._subplots.AxesSubplot at 0x19c31a20>"
      ]
     },
     "execution_count": 76,
     "metadata": {},
     "output_type": "execute_result"
    },
    {
     "data": {
      "image/png": "[encoded data removed]",
      "text/plain": [
       "<Figure size 504x360 with 2 Axes>"
      ]
     },
     "metadata": {
      "needs_background": "light"
     },
     "output_type": "display_data"
    }
   ],
   "source": [
    "# CORRELATION ANALYSIS USING CORRELATION PLOT\n",
    "\n",
    "df_corr = mydata.loc[:,cnames]\n",
    "\n",
    "#SETTING THE WIDTH AND HEIGHT OF THE PLOT\n",
    "\n",
    "f, ax = plt.subplots(figsize=(7, 5))\n",
    "\n",
    "# GENERATING THE CORRELATIONMATRIX \n",
    "\n",
    "corr = df_corr.corr()\n",
    "\n",
    "# CORRELATION PLOT USING SEABORN LIBRARY\n",
    "\n",
    "sns.heatmap(corr, mask=np.zeros_like(corr, dtype=np.bool), cmap=sns.diverging_palette(220, 10, as_cmap=True),\n",
    "            square=True, ax=ax)"
   ]
  },
  {
   "cell_type": "code",
   "execution_count": 77,
   "metadata": {},
   "outputs": [
    {
     "name": "stdout",
     "output_type": "stream",
     "text": [
      "state\n",
      "7.850836224371827e-05\n",
      "area code\n",
      "0.7546581385329686\n",
      "phone number\n",
      "0.493350889587423\n",
      "international plan\n",
      "1.9443947474998577e-74\n",
      "voice mail plan\n",
      "7.164501780988496e-15\n"
     ]
    }
   ],
   "source": [
    "# CHISQUARE TEST OF INDEPENDENCE TO CHECK THE CORRELATION BETWEEN CATEGORICAL VARIABLES\n",
    "\n",
    "cat_names = ['state', 'area code', 'phone number',\n",
    "       'international plan', 'voice mail plan']\n",
    "\n",
    "#LOOP FOR CHISQUARE TEST\n",
    "for i in cat_names:\n",
    "    print(i)\n",
    "    chi2, p, dof, ex = chi2_contingency(pd.crosstab(mydata['Churn'], mydata[i]))\n",
    "    print(p)"
   ]
  },
  {
   "cell_type": "code",
   "execution_count": 78,
   "metadata": {},
   "outputs": [
    {
     "name": "stdout",
     "output_type": "stream",
     "text": [
      "<class 'pandas.core.frame.DataFrame'>\n",
      "RangeIndex: 5000 entries, 0 to 4999\n",
      "Data columns (total 16 columns):\n",
      "state                            5000 non-null int64\n",
      "account length                   5000 non-null float64\n",
      "international plan               5000 non-null int64\n",
      "voice mail plan                  5000 non-null int64\n",
      "number vmail messages            5000 non-null float64\n",
      "total day calls                  5000 non-null float64\n",
      "total day charge                 5000 non-null float64\n",
      "total eve calls                  5000 non-null float64\n",
      "total eve charge                 5000 non-null float64\n",
      "total night calls                5000 non-null float64\n",
      "total night charge               5000 non-null float64\n",
      "total intl calls                 5000 non-null float64\n",
      "total intl charge                5000 non-null float64\n",
      "number customer service calls    5000 non-null float64\n",
      "Churn                            5000 non-null int64\n",
      "myindex                          5000 non-null int64\n",
      "dtypes: float64(11), int64(5)\n",
      "memory usage: 625.1 KB\n"
     ]
    }
   ],
   "source": [
    "\n",
    "\n"
   ]
  },
  {
   "cell_type": "markdown",
   "metadata": {},
   "source": [
    "# FEATURE SCALING"
   ]
  },
  {
   "cell_type": "code",
   "execution_count": 2,
   "metadata": {},
   "outputs": [],
   "source": [
    "# GETTING THE COLUMN NAMES OF ALL THE NUMERIC VARIABLES INTO \"cnames\"\n",
    "\n",
    "cnames=['account length', 'number vmail messages', 'total day calls', 'total day charge','total eve calls', 'total eve charge',\n",
    "        'total night calls', 'total night charge', 'total intl calls', 'total intl charge',\n",
    "       'number customer service calls',]\n"
   ]
  },
  {
   "cell_type": "code",
   "execution_count": 3,
   "metadata": {
    "scrolled": true
   },
   "outputs": [
    {
     "ename": "NameError",
     "evalue": "name 'plt' is not defined",
     "output_type": "error",
     "traceback": [
      "\u001b[1;31m---------------------------------------------------------------------------\u001b[0m",
      "\u001b[1;31mNameError\u001b[0m                                 Traceback (most recent call last)",
      "\u001b[1;32m<ipython-input-3-63ea307bcaab>\u001b[0m in \u001b[0;36m<module>\u001b[1;34m\u001b[0m\n\u001b[0;32m      2\u001b[0m \u001b[1;33m\u001b[0m\u001b[0m\n\u001b[0;32m      3\u001b[0m \u001b[0mget_ipython\u001b[0m\u001b[1;33m(\u001b[0m\u001b[1;33m)\u001b[0m\u001b[1;33m.\u001b[0m\u001b[0mrun_line_magic\u001b[0m\u001b[1;33m(\u001b[0m\u001b[1;34m'matplotlib'\u001b[0m\u001b[1;33m,\u001b[0m \u001b[1;34m'inline     '\u001b[0m\u001b[1;33m)\u001b[0m\u001b[1;33m\u001b[0m\u001b[1;33m\u001b[0m\u001b[0m\n\u001b[1;32m----> 4\u001b[1;33m \u001b[0mplt\u001b[0m\u001b[1;33m.\u001b[0m\u001b[0mhist\u001b[0m\u001b[1;33m(\u001b[0m\u001b[0mmydata\u001b[0m\u001b[1;33m[\u001b[0m\u001b[1;34m'account length'\u001b[0m\u001b[1;33m]\u001b[0m\u001b[1;33m,\u001b[0m \u001b[0mbins\u001b[0m\u001b[1;33m=\u001b[0m\u001b[1;34m'auto'\u001b[0m\u001b[1;33m)\u001b[0m\u001b[1;33m\u001b[0m\u001b[1;33m\u001b[0m\u001b[0m\n\u001b[0m",
      "\u001b[1;31mNameError\u001b[0m: name 'plt' is not defined"
     ]
    }
   ],
   "source": [
    "# PLOTTING HISTOGRAM PLOT TO OVERVIW THE DATA DISTRIBUTION INTO THE NIUMERIC VARIABLE\n",
    "\n",
    "%matplotlib inline     \n",
    "plt.hist(mydata['account length'], bins='auto')"
   ]
  },
  {
   "cell_type": "markdown",
   "metadata": {},
   "source": [
    "# FEATURE SCALING"
   ]
  },
  {
   "cell_type": "code",
   "execution_count": 1,
   "metadata": {},
   "outputs": [
    {
     "ename": "NameError",
     "evalue": "name 'cnames' is not defined",
     "output_type": "error",
     "traceback": [
      "\u001b[1;31m---------------------------------------------------------------------------\u001b[0m",
      "\u001b[1;31mNameError\u001b[0m                                 Traceback (most recent call last)",
      "\u001b[1;32m<ipython-input-1-22f868f67825>\u001b[0m in \u001b[0;36m<module>\u001b[1;34m\u001b[0m\n\u001b[0;32m      1\u001b[0m \u001b[1;31m# SCALING THE VARIABLES USING STANDARDIZATION METHOD\u001b[0m\u001b[1;33m\u001b[0m\u001b[1;33m\u001b[0m\u001b[1;33m\u001b[0m\u001b[0m\n\u001b[0;32m      2\u001b[0m \u001b[1;33m\u001b[0m\u001b[0m\n\u001b[1;32m----> 3\u001b[1;33m \u001b[1;32mfor\u001b[0m \u001b[0mi\u001b[0m \u001b[1;32min\u001b[0m \u001b[0mcnames\u001b[0m\u001b[1;33m:\u001b[0m\u001b[1;33m\u001b[0m\u001b[1;33m\u001b[0m\u001b[0m\n\u001b[0m\u001b[0;32m      4\u001b[0m        \u001b[0mprint\u001b[0m\u001b[1;33m(\u001b[0m\u001b[0mi\u001b[0m\u001b[1;33m)\u001b[0m\u001b[1;33m\u001b[0m\u001b[1;33m\u001b[0m\u001b[0m\n\u001b[0;32m      5\u001b[0m        \u001b[0mmydata\u001b[0m\u001b[1;33m[\u001b[0m\u001b[0mi\u001b[0m\u001b[1;33m]\u001b[0m \u001b[1;33m=\u001b[0m \u001b[1;33m(\u001b[0m\u001b[1;33m(\u001b[0m\u001b[0mmydata\u001b[0m\u001b[1;33m[\u001b[0m\u001b[0mi\u001b[0m\u001b[1;33m]\u001b[0m \u001b[1;33m-\u001b[0m \u001b[0mmydata\u001b[0m\u001b[1;33m[\u001b[0m\u001b[0mi\u001b[0m\u001b[1;33m]\u001b[0m\u001b[1;33m.\u001b[0m\u001b[0mmean\u001b[0m\u001b[1;33m(\u001b[0m\u001b[1;33m)\u001b[0m\u001b[1;33m)\u001b[0m\u001b[1;33m/\u001b[0m\u001b[0mmydata\u001b[0m\u001b[1;33m[\u001b[0m\u001b[0mi\u001b[0m\u001b[1;33m]\u001b[0m\u001b[1;33m.\u001b[0m\u001b[0mstd\u001b[0m\u001b[1;33m(\u001b[0m\u001b[1;33m)\u001b[0m\u001b[1;33m)\u001b[0m\u001b[1;33m\u001b[0m\u001b[1;33m\u001b[0m\u001b[0m\n",
      "\u001b[1;31mNameError\u001b[0m: name 'cnames' is not defined"
     ]
    }
   ],
   "source": [
    " # SCALING THE VARIABLES USING STANDARDIZATION METHOD\n",
    "    \n",
    "for i in cnames:\n",
    "        print(i)\n",
    "        mydata[i] = ((mydata[i] - mydata[i].mean())/mydata[i].std())"
   ]
  },
  {
   "cell_type": "markdown",
   "metadata": {},
   "source": [
    "# SAMPLING  DATASET "
   ]
  },
  {
   "cell_type": "code",
   "execution_count": 82,
   "metadata": {},
   "outputs": [],
   "source": [
    "# SAMPLING DATASET INTO TRAIN AND TEST DATASETS\n",
    "\n",
    "train = mydata[mydata.myindex==1]\n",
    "test= mydata[mydata.myindex==2]\n",
    "train =train.drop('myindex',axis=1)\n",
    "test=test.drop('myindex',axis=1)\n",
    "test = test.reset_index(drop=True)"
   ]
  },
  {
   "cell_type": "markdown",
   "metadata": {},
   "source": [
    "# MODEL BUILDING"
   ]
  },
  {
   "cell_type": "markdown",
   "metadata": {},
   "source": [
    "# DECISION TREE FOR CLASSIFICATION"
   ]
  },
  {
   "cell_type": "code",
   "execution_count": 83,
   "metadata": {},
   "outputs": [],
   "source": [
    "#IMPORTING LIBRARIES FOR DECISION TREE\n",
    "\n",
    "from sklearn import tree\n",
    "from sklearn.metrics import accuracy_score\n",
    "#from sklearn.cross_validation import train_test_split\n",
    "from sklearn.model_selection import train_test_split"
   ]
  },
  {
   "cell_type": "code",
   "execution_count": 84,
   "metadata": {},
   "outputs": [],
   "source": [
    "# REPLACE TARGET VARIABLES CATEGORIES INTO \"YES\" AND \"NO\"\n",
    "\n",
    "train['Churn'] = train['Churn'].replace(0, 'No')\n",
    "train['Churn'] = train['Churn'].replace(1, 'Yes')\n",
    "test['Churn'] = test['Churn'].replace(0, 'No')\n",
    "test['Churn'] = test['Churn'].replace(1, 'Yes')"
   ]
  },
  {
   "cell_type": "code",
   "execution_count": 85,
   "metadata": {},
   "outputs": [
    {
     "name": "stdout",
     "output_type": "stream",
     "text": [
      "<class 'pandas.core.frame.DataFrame'>\n",
      "Int64Index: 3333 entries, 0 to 3332\n",
      "Data columns (total 15 columns):\n",
      "state                            3333 non-null int64\n",
      "account length                   3333 non-null float64\n",
      "international plan               3333 non-null int64\n",
      "voice mail plan                  3333 non-null int64\n",
      "number vmail messages            3333 non-null float64\n",
      "total day calls                  3333 non-null float64\n",
      "total day charge                 3333 non-null float64\n",
      "total eve calls                  3333 non-null float64\n",
      "total eve charge                 3333 non-null float64\n",
      "total night calls                3333 non-null float64\n",
      "total night charge               3333 non-null float64\n",
      "total intl calls                 3333 non-null float64\n",
      "total intl charge                3333 non-null float64\n",
      "number customer service calls    3333 non-null float64\n",
      "Churn                            3333 non-null object\n",
      "dtypes: float64(11), int64(3), object(1)\n",
      "memory usage: 416.6+ KB\n"
     ]
    }
   ],
   "source": [
    "train.info()"
   ]
  },
  {
   "cell_type": "code",
   "execution_count": 86,
   "metadata": {},
   "outputs": [],
   "source": [
    "# SPLITING DATASET FOR MODEL BUILDING\n",
    "\n",
    "X_train=train.values[:,0:14]\n",
    "Y_train=train.values[:,14]\n",
    "X_test=test.values[:,0:14]\n",
    "Y_test=test.values[:,14]"
   ]
  },
  {
   "cell_type": "code",
   "execution_count": 87,
   "metadata": {},
   "outputs": [],
   "source": [
    "#DECISION TREE\n",
    "\n",
    "C50_model = tree.DecisionTreeClassifier(criterion='entropy').fit(X_train, Y_train)\n",
    "\n",
    "# PREDICT NEW TEST CASES\n",
    "\n",
    "C50_Predictions = C50_model.predict(X_test)\n"
   ]
  },
  {
   "cell_type": "code",
   "execution_count": 88,
   "metadata": {},
   "outputs": [],
   "source": [
    "# BUILDING CONFUSION MATRIX\n",
    "\n",
    "from sklearn.metrics import confusion_matrix \n",
    "CM = confusion_matrix(Y_test, C50_Predictions)\n",
    "CM = pd.crosstab(Y_test, C50_Predictions)"
   ]
  },
  {
   "cell_type": "code",
   "execution_count": 89,
   "metadata": {},
   "outputs": [],
   "source": [
    "# CREATE DOT FILE TO VISUALIZE TREE  #http://webgraphviz.com/\n",
    "\n",
    "graph=mydata.drop(['Churn','myindex'],axis=1)\n",
    "import graphviz\n",
    "dotfile = open(\"pt.dot\", 'w')\n",
    "df = tree.export_graphviz(C50_model, out_file=dotfile, feature_names = graph.columns)"
   ]
  },
  {
   "cell_type": "code",
   "execution_count": 90,
   "metadata": {},
   "outputs": [],
   "source": [
    "# LETS SAVE TP, TN, FP, FN \n",
    "\n",
    "TN = CM.iloc[0,0]\n",
    "FN = CM.iloc[1,0]\n",
    "TP = CM.iloc[1,1]\n",
    "FP = CM.iloc[0,1]"
   ]
  },
  {
   "cell_type": "code",
   "execution_count": 91,
   "metadata": {},
   "outputs": [
    {
     "data": {
      "text/plain": [
       "92.20155968806239"
      ]
     },
     "execution_count": 91,
     "metadata": {},
     "output_type": "execute_result"
    }
   ],
   "source": [
    "# ACCURACY OF MODEL\n",
    "accuracy_score(Y_test, C50_Predictions)*100"
   ]
  },
  {
   "cell_type": "code",
   "execution_count": 92,
   "metadata": {},
   "outputs": [
    {
     "data": {
      "text/plain": [
       "92.20155968806239"
      ]
     },
     "execution_count": 92,
     "metadata": {},
     "output_type": "execute_result"
    }
   ],
   "source": [
    "((TP+TN)*100)/(TP+TN+FP+FN)"
   ]
  },
  {
   "cell_type": "code",
   "execution_count": 93,
   "metadata": {},
   "outputs": [
    {
     "data": {
      "text/plain": [
       "32.142857142857146"
      ]
     },
     "execution_count": 93,
     "metadata": {},
     "output_type": "execute_result"
    }
   ],
   "source": [
    "# FALSE NEGATIVE RATE\n",
    "\n",
    "(FN*100)/(FN+TP)"
   ]
  },
  {
   "cell_type": "markdown",
   "metadata": {},
   "source": [
    "# RANDOM FOREST"
   ]
  },
  {
   "cell_type": "code",
   "execution_count": 94,
   "metadata": {},
   "outputs": [],
   "source": [
    "# IMPORTING LIBRARIES\n",
    "\n",
    "from sklearn.ensemble import RandomForestClassifier\n",
    "\n",
    "RF_model = RandomForestClassifier(n_estimators = 20).fit(X_train, Y_train)"
   ]
  },
  {
   "cell_type": "code",
   "execution_count": 95,
   "metadata": {},
   "outputs": [],
   "source": [
    "# PREDICT THE NEW TEST CASES\n",
    "\n",
    "RF_Predictions = RF_model.predict(X_test)"
   ]
  },
  {
   "cell_type": "code",
   "execution_count": 96,
   "metadata": {},
   "outputs": [],
   "source": [
    "# BUILDING CONFUSION MATRIX \n",
    "\n",
    "CM = pd.crosstab(Y_test, RF_Predictions)\n",
    "\n",
    "# LETS SAVE TP, TN, FP, FN\n",
    "\n",
    "TN = CM.iloc[0,0]\n",
    "FN = CM.iloc[1,0]\n",
    "TP = CM.iloc[1,1]\n",
    "FP = CM.iloc[0,1]\n",
    "\n"
   ]
  },
  {
   "cell_type": "code",
   "execution_count": 97,
   "metadata": {},
   "outputs": [
    {
     "data": {
      "text/plain": [
       "93.70125974805039"
      ]
     },
     "execution_count": 97,
     "metadata": {},
     "output_type": "execute_result"
    }
   ],
   "source": [
    "# ACCURACY OF THE MODEL\n",
    "\n",
    "accuracy_score(Y_test, RF_Predictions)*100\n"
   ]
  },
  {
   "cell_type": "code",
   "execution_count": 98,
   "metadata": {},
   "outputs": [
    {
     "data": {
      "text/plain": [
       "93.70125974805039"
      ]
     },
     "execution_count": 98,
     "metadata": {},
     "output_type": "execute_result"
    }
   ],
   "source": [
    "((TP+TN)*100)/(TP+TN+FP+FN)"
   ]
  },
  {
   "cell_type": "code",
   "execution_count": 99,
   "metadata": {},
   "outputs": [
    {
     "data": {
      "text/plain": [
       "44.642857142857146"
      ]
     },
     "execution_count": 99,
     "metadata": {},
     "output_type": "execute_result"
    }
   ],
   "source": [
    "# FALSE NEGATIVE RATE\n",
    "\n",
    "(FN*100)/(FN+TP)\n"
   ]
  },
  {
   "cell_type": "markdown",
   "metadata": {},
   "source": [
    "# KNN IMPLEMENTATION"
   ]
  },
  {
   "cell_type": "code",
   "execution_count": 100,
   "metadata": {},
   "outputs": [],
   "source": [
    "#IMPORTING LIBRARIES\n",
    "\n",
    "from sklearn.neighbors import KNeighborsClassifier\n",
    "\n",
    "KNN_model = KNeighborsClassifier(n_neighbors = 9).fit(X_train, Y_train)"
   ]
  },
  {
   "cell_type": "code",
   "execution_count": 101,
   "metadata": {},
   "outputs": [],
   "source": [
    "# PREDICT THE TEST CASES\n",
    "\n",
    "KNN_Predictions = KNN_model.predict(X_test)"
   ]
  },
  {
   "cell_type": "code",
   "execution_count": 102,
   "metadata": {},
   "outputs": [],
   "source": [
    "# BUILDING CONFUSION MATRIX\n",
    "\n",
    "CM = pd.crosstab(Y_test, KNN_Predictions)\n",
    "\n",
    "#let us save TP, TN, FP, FN\n",
    "TN = CM.iloc[0,0]\n",
    "FN = CM.iloc[1,0]\n",
    "TP = CM.iloc[1,1]\n",
    "FP = CM.iloc[0,1]\n"
   ]
  },
  {
   "cell_type": "code",
   "execution_count": 103,
   "metadata": {},
   "outputs": [
    {
     "data": {
      "text/plain": [
       "86.74265146970606"
      ]
     },
     "execution_count": 103,
     "metadata": {},
     "output_type": "execute_result"
    }
   ],
   "source": [
    "# ACCURACY OF THE MODEL\n",
    "\n",
    "accuracy_score(Y_test, KNN_Predictions)*100"
   ]
  },
  {
   "cell_type": "code",
   "execution_count": 104,
   "metadata": {},
   "outputs": [
    {
     "data": {
      "text/plain": [
       "96.42857142857143"
      ]
     },
     "execution_count": 104,
     "metadata": {},
     "output_type": "execute_result"
    }
   ],
   "source": [
    "# FALSE NEGATIVE RATE\n",
    "\n",
    "(FN*100)/(FN+TP)"
   ]
  },
  {
   "cell_type": "markdown",
   "metadata": {},
   "source": [
    "# NAIVE BAYES"
   ]
  },
  {
   "cell_type": "code",
   "execution_count": 105,
   "metadata": {},
   "outputs": [],
   "source": [
    "#IMPORTING LIBRARIES\n",
    "\n",
    "from sklearn.naive_bayes import GaussianNB\n",
    "\n",
    "NB_model = GaussianNB().fit(X_train, Y_train)"
   ]
  },
  {
   "cell_type": "code",
   "execution_count": 106,
   "metadata": {},
   "outputs": [],
   "source": [
    "# PREDICT THE TEST CASES\n",
    "\n",
    "NB_Predictions = NB_model.predict(X_test)"
   ]
  },
  {
   "cell_type": "code",
   "execution_count": 107,
   "metadata": {},
   "outputs": [],
   "source": [
    "#BUILDING A CONFUSION MATRIX\n",
    "\n",
    "CM = pd.crosstab(Y_test, NB_Predictions)\n",
    "\n",
    "#LETS SAVE TN,FN,TP,FP\n",
    "\n",
    "TN = CM.iloc[0,0]\n",
    "FN = CM.iloc[1,0]\n",
    "TP = CM.iloc[1,1]\n",
    "FP = CM.iloc[0,1]\n"
   ]
  },
  {
   "cell_type": "code",
   "execution_count": 108,
   "metadata": {},
   "outputs": [
    {
     "data": {
      "text/plain": [
       "85.84283143371326"
      ]
     },
     "execution_count": 108,
     "metadata": {},
     "output_type": "execute_result"
    }
   ],
   "source": [
    "# ACCURACY OF THE MODEL\n",
    "\n",
    "accuracy_score(Y_test,NB_Predictions)*100"
   ]
  },
  {
   "cell_type": "code",
   "execution_count": 109,
   "metadata": {},
   "outputs": [
    {
     "data": {
      "text/plain": [
       "68.30357142857143"
      ]
     },
     "execution_count": 109,
     "metadata": {},
     "output_type": "execute_result"
    }
   ],
   "source": [
    "# FALSE NEGATIVE RATE\n",
    "\n",
    "(FN*100)/(FN+TP)"
   ]
  },
  {
   "cell_type": "markdown",
   "metadata": {},
   "source": [
    "# LOGISTIC REGRESSION"
   ]
  },
  {
   "cell_type": "code",
   "execution_count": 110,
   "metadata": {},
   "outputs": [],
   "source": [
    "# GETTING THE COLUMN NAMES OF CATEGORICAL VARIABLES\n",
    "\n",
    "cat1_names=['state', 'international plan', 'voice mail plan']"
   ]
  },
  {
   "cell_type": "code",
   "execution_count": 111,
   "metadata": {},
   "outputs": [],
   "source": [
    "#DEVLOPING A MODEL\n",
    "\n",
    "logit = pd.DataFrame(mydata['Churn'])\n",
    "logit=logit.join(mydata[cnames])"
   ]
  },
  {
   "cell_type": "code",
   "execution_count": 112,
   "metadata": {},
   "outputs": [],
   "source": [
    "# CREATING DUMMIES FOR VARIABLES\n",
    "\n",
    "for i in cat1_names:\n",
    "    temp = pd.get_dummies(mydata[i], prefix = i)\n",
    "    logit = logit.join(temp)"
   ]
  },
  {
   "cell_type": "code",
   "execution_count": 113,
   "metadata": {},
   "outputs": [],
   "source": [
    "# SPLITTING THE DATA INTO TRAIN AND TEST\n",
    "\n",
    "Sample_Index = np.random.rand(len(logit)) < 0.8\n",
    "\n",
    "train = logit[Sample_Index]\n",
    "test = logit[~Sample_Index]"
   ]
  },
  {
   "cell_type": "code",
   "execution_count": 114,
   "metadata": {},
   "outputs": [],
   "source": [
    "# SELECTING COLUMN INDEXES FOR ALL THE VARIABLES\n",
    "\n",
    "train_cols = train.columns[1:67]"
   ]
  },
  {
   "cell_type": "code",
   "execution_count": 115,
   "metadata": {},
   "outputs": [
    {
     "name": "stdout",
     "output_type": "stream",
     "text": [
      "<class 'pandas.core.frame.DataFrame'>\n",
      "RangeIndex: 5000 entries, 0 to 4999\n",
      "Data columns (total 67 columns):\n",
      "Churn                            5000 non-null int64\n",
      "account length                   5000 non-null float64\n",
      "number vmail messages            5000 non-null float64\n",
      "total day calls                  5000 non-null float64\n",
      "total day charge                 5000 non-null float64\n",
      "total eve calls                  5000 non-null float64\n",
      "total eve charge                 5000 non-null float64\n",
      "total night calls                5000 non-null float64\n",
      "total night charge               5000 non-null float64\n",
      "total intl calls                 5000 non-null float64\n",
      "total intl charge                5000 non-null float64\n",
      "number customer service calls    5000 non-null float64\n",
      "state_0                          5000 non-null uint8\n",
      "state_1                          5000 non-null uint8\n",
      "state_2                          5000 non-null uint8\n",
      "state_3                          5000 non-null uint8\n",
      "state_4                          5000 non-null uint8\n",
      "state_5                          5000 non-null uint8\n",
      "state_6                          5000 non-null uint8\n",
      "state_7                          5000 non-null uint8\n",
      "state_8                          5000 non-null uint8\n",
      "state_9                          5000 non-null uint8\n",
      "state_10                         5000 non-null uint8\n",
      "state_11                         5000 non-null uint8\n",
      "state_12                         5000 non-null uint8\n",
      "state_13                         5000 non-null uint8\n",
      "state_14                         5000 non-null uint8\n",
      "state_15                         5000 non-null uint8\n",
      "state_16                         5000 non-null uint8\n",
      "state_17                         5000 non-null uint8\n",
      "state_18                         5000 non-null uint8\n",
      "state_19                         5000 non-null uint8\n",
      "state_20                         5000 non-null uint8\n",
      "state_21                         5000 non-null uint8\n",
      "state_22                         5000 non-null uint8\n",
      "state_23                         5000 non-null uint8\n",
      "state_24                         5000 non-null uint8\n",
      "state_25                         5000 non-null uint8\n",
      "state_26                         5000 non-null uint8\n",
      "state_27                         5000 non-null uint8\n",
      "state_28                         5000 non-null uint8\n",
      "state_29                         5000 non-null uint8\n",
      "state_30                         5000 non-null uint8\n",
      "state_31                         5000 non-null uint8\n",
      "state_32                         5000 non-null uint8\n",
      "state_33                         5000 non-null uint8\n",
      "state_34                         5000 non-null uint8\n",
      "state_35                         5000 non-null uint8\n",
      "state_36                         5000 non-null uint8\n",
      "state_37                         5000 non-null uint8\n",
      "state_38                         5000 non-null uint8\n",
      "state_39                         5000 non-null uint8\n",
      "state_40                         5000 non-null uint8\n",
      "state_41                         5000 non-null uint8\n",
      "state_42                         5000 non-null uint8\n",
      "state_43                         5000 non-null uint8\n",
      "state_44                         5000 non-null uint8\n",
      "state_45                         5000 non-null uint8\n",
      "state_46                         5000 non-null uint8\n",
      "state_47                         5000 non-null uint8\n",
      "state_48                         5000 non-null uint8\n",
      "state_49                         5000 non-null uint8\n",
      "state_50                         5000 non-null uint8\n",
      "international plan_0             5000 non-null uint8\n",
      "international plan_1             5000 non-null uint8\n",
      "voice mail plan_0                5000 non-null uint8\n",
      "voice mail plan_1                5000 non-null uint8\n",
      "dtypes: float64(11), int64(1), uint8(55)\n",
      "memory usage: 737.4 KB\n"
     ]
    }
   ],
   "source": [
    "logit.info()"
   ]
  },
  {
   "cell_type": "code",
   "execution_count": 116,
   "metadata": {},
   "outputs": [
    {
     "name": "stdout",
     "output_type": "stream",
     "text": [
      "Optimization terminated successfully.\n",
      "         Current function value: 0.334915\n",
      "         Iterations 8\n"
     ]
    },
    {
     "data": {
      "text/html": [
       "<table class=\"simpletable\">\n",
       "<caption>Logit Regression Results</caption>\n",
       "<tr>\n",
       "  <th>Dep. Variable:</th>       <td>Churn</td>      <th>  No. Observations:  </th>  <td>  3987</td>  \n",
       "</tr>\n",
       "<tr>\n",
       "  <th>Model:</th>               <td>Logit</td>      <th>  Df Residuals:      </th>  <td>  3923</td>  \n",
       "</tr>\n",
       "<tr>\n",
       "  <th>Method:</th>               <td>MLE</td>       <th>  Df Model:          </th>  <td>    63</td>  \n",
       "</tr>\n",
       "<tr>\n",
       "  <th>Date:</th>          <td>Mon, 18 Feb 2019</td> <th>  Pseudo R-squ.:     </th>  <td>0.1709</td>  \n",
       "</tr>\n",
       "<tr>\n",
       "  <th>Time:</th>              <td>03:37:42</td>     <th>  Log-Likelihood:    </th> <td> -1335.3</td> \n",
       "</tr>\n",
       "<tr>\n",
       "  <th>converged:</th>           <td>True</td>       <th>  LL-Null:           </th> <td> -1610.6</td> \n",
       "</tr>\n",
       "<tr>\n",
       "  <th> </th>                      <td> </td>        <th>  LLR p-value:       </th> <td>5.343e-79</td>\n",
       "</tr>\n",
       "</table>\n",
       "<table class=\"simpletable\">\n",
       "<tr>\n",
       "                <td></td>                   <th>coef</th>     <th>std err</th>      <th>z</th>      <th>P>|z|</th>  <th>[0.025</th>    <th>0.975]</th>  \n",
       "</tr>\n",
       "<tr>\n",
       "  <th>account length</th>                <td>    0.0619</td> <td>    0.050</td> <td>    1.237</td> <td> 0.216</td> <td>   -0.036</td> <td>    0.160</td>\n",
       "</tr>\n",
       "<tr>\n",
       "  <th>number vmail messages</th>         <td>    0.1525</td> <td>    0.213</td> <td>    0.716</td> <td> 0.474</td> <td>   -0.265</td> <td>    0.570</td>\n",
       "</tr>\n",
       "<tr>\n",
       "  <th>total day calls</th>               <td>    0.0509</td> <td>    0.050</td> <td>    1.021</td> <td> 0.307</td> <td>   -0.047</td> <td>    0.149</td>\n",
       "</tr>\n",
       "<tr>\n",
       "  <th>total day charge</th>              <td>    0.5960</td> <td>    0.053</td> <td>   11.212</td> <td> 0.000</td> <td>    0.492</td> <td>    0.700</td>\n",
       "</tr>\n",
       "<tr>\n",
       "  <th>total eve calls</th>               <td>   -0.0528</td> <td>    0.051</td> <td>   -1.038</td> <td> 0.299</td> <td>   -0.152</td> <td>    0.047</td>\n",
       "</tr>\n",
       "<tr>\n",
       "  <th>total eve charge</th>              <td>    0.2453</td> <td>    0.051</td> <td>    4.801</td> <td> 0.000</td> <td>    0.145</td> <td>    0.345</td>\n",
       "</tr>\n",
       "<tr>\n",
       "  <th>total night calls</th>             <td>   -0.0030</td> <td>    0.050</td> <td>   -0.059</td> <td> 0.953</td> <td>   -0.101</td> <td>    0.095</td>\n",
       "</tr>\n",
       "<tr>\n",
       "  <th>total night charge</th>            <td>    0.2277</td> <td>    0.050</td> <td>    4.521</td> <td> 0.000</td> <td>    0.129</td> <td>    0.326</td>\n",
       "</tr>\n",
       "<tr>\n",
       "  <th>total intl calls</th>              <td>   -0.2605</td> <td>    0.053</td> <td>   -4.936</td> <td> 0.000</td> <td>   -0.364</td> <td>   -0.157</td>\n",
       "</tr>\n",
       "<tr>\n",
       "  <th>total intl charge</th>             <td>    0.1647</td> <td>    0.051</td> <td>    3.231</td> <td> 0.001</td> <td>    0.065</td> <td>    0.265</td>\n",
       "</tr>\n",
       "<tr>\n",
       "  <th>number customer service calls</th> <td>   -0.0023</td> <td>    0.050</td> <td>   -0.046</td> <td> 0.963</td> <td>   -0.100</td> <td>    0.095</td>\n",
       "</tr>\n",
       "<tr>\n",
       "  <th>state_0</th>                       <td>   -0.6888</td> <td> 6.95e+06</td> <td>-9.91e-08</td> <td> 1.000</td> <td>-1.36e+07</td> <td> 1.36e+07</td>\n",
       "</tr>\n",
       "<tr>\n",
       "  <th>state_1</th>                       <td>   -0.3208</td> <td> 6.95e+06</td> <td>-4.62e-08</td> <td> 1.000</td> <td>-1.36e+07</td> <td> 1.36e+07</td>\n",
       "</tr>\n",
       "<tr>\n",
       "  <th>state_2</th>                       <td>    0.3445</td> <td> 6.95e+06</td> <td> 4.96e-08</td> <td> 1.000</td> <td>-1.36e+07</td> <td> 1.36e+07</td>\n",
       "</tr>\n",
       "<tr>\n",
       "  <th>state_3</th>                       <td>   -0.4538</td> <td> 6.95e+06</td> <td>-6.53e-08</td> <td> 1.000</td> <td>-1.36e+07</td> <td> 1.36e+07</td>\n",
       "</tr>\n",
       "<tr>\n",
       "  <th>state_4</th>                       <td>    0.9063</td> <td> 6.95e+06</td> <td>  1.3e-07</td> <td> 1.000</td> <td>-1.36e+07</td> <td> 1.36e+07</td>\n",
       "</tr>\n",
       "<tr>\n",
       "  <th>state_5</th>                       <td>   -0.2710</td> <td> 6.95e+06</td> <td> -3.9e-08</td> <td> 1.000</td> <td>-1.36e+07</td> <td> 1.36e+07</td>\n",
       "</tr>\n",
       "<tr>\n",
       "  <th>state_6</th>                       <td>    0.2718</td> <td> 6.95e+06</td> <td> 3.91e-08</td> <td> 1.000</td> <td>-1.36e+07</td> <td> 1.36e+07</td>\n",
       "</tr>\n",
       "<tr>\n",
       "  <th>state_7</th>                       <td>   -0.3936</td> <td> 6.95e+06</td> <td>-5.67e-08</td> <td> 1.000</td> <td>-1.36e+07</td> <td> 1.36e+07</td>\n",
       "</tr>\n",
       "<tr>\n",
       "  <th>state_8</th>                       <td>   -0.0080</td> <td> 6.95e+06</td> <td>-1.16e-09</td> <td> 1.000</td> <td>-1.36e+07</td> <td> 1.36e+07</td>\n",
       "</tr>\n",
       "<tr>\n",
       "  <th>state_9</th>                       <td>   -0.1050</td> <td> 6.95e+06</td> <td>-1.51e-08</td> <td> 1.000</td> <td>-1.36e+07</td> <td> 1.36e+07</td>\n",
       "</tr>\n",
       "<tr>\n",
       "  <th>state_10</th>                      <td>    0.1881</td> <td> 6.95e+06</td> <td> 2.71e-08</td> <td> 1.000</td> <td>-1.36e+07</td> <td> 1.36e+07</td>\n",
       "</tr>\n",
       "<tr>\n",
       "  <th>state_11</th>                      <td>   -1.0441</td> <td> 6.95e+06</td> <td> -1.5e-07</td> <td> 1.000</td> <td>-1.36e+07</td> <td> 1.36e+07</td>\n",
       "</tr>\n",
       "<tr>\n",
       "  <th>state_12</th>                      <td>    0.0870</td> <td> 6.95e+06</td> <td> 1.25e-08</td> <td> 1.000</td> <td>-1.36e+07</td> <td> 1.36e+07</td>\n",
       "</tr>\n",
       "<tr>\n",
       "  <th>state_13</th>                      <td>   -0.2051</td> <td> 6.95e+06</td> <td>-2.95e-08</td> <td> 1.000</td> <td>-1.36e+07</td> <td> 1.36e+07</td>\n",
       "</tr>\n",
       "<tr>\n",
       "  <th>state_14</th>                      <td>   -1.0131</td> <td> 6.95e+06</td> <td>-1.46e-07</td> <td> 1.000</td> <td>-1.36e+07</td> <td> 1.36e+07</td>\n",
       "</tr>\n",
       "<tr>\n",
       "  <th>state_15</th>                      <td>    0.0574</td> <td> 6.95e+06</td> <td> 8.26e-09</td> <td> 1.000</td> <td>-1.36e+07</td> <td> 1.36e+07</td>\n",
       "</tr>\n",
       "<tr>\n",
       "  <th>state_16</th>                      <td>    0.2063</td> <td> 6.95e+06</td> <td> 2.97e-08</td> <td> 1.000</td> <td>-1.36e+07</td> <td> 1.36e+07</td>\n",
       "</tr>\n",
       "<tr>\n",
       "  <th>state_17</th>                      <td>    0.2837</td> <td> 6.95e+06</td> <td> 4.08e-08</td> <td> 1.000</td> <td>-1.36e+07</td> <td> 1.36e+07</td>\n",
       "</tr>\n",
       "<tr>\n",
       "  <th>state_18</th>                      <td>    0.0307</td> <td> 6.95e+06</td> <td> 4.41e-09</td> <td> 1.000</td> <td>-1.36e+07</td> <td> 1.36e+07</td>\n",
       "</tr>\n",
       "<tr>\n",
       "  <th>state_19</th>                      <td>    0.1199</td> <td> 6.95e+06</td> <td> 1.73e-08</td> <td> 1.000</td> <td>-1.36e+07</td> <td> 1.36e+07</td>\n",
       "</tr>\n",
       "<tr>\n",
       "  <th>state_20</th>                      <td>    0.1738</td> <td> 6.95e+06</td> <td>  2.5e-08</td> <td> 1.000</td> <td>-1.36e+07</td> <td> 1.36e+07</td>\n",
       "</tr>\n",
       "<tr>\n",
       "  <th>state_21</th>                      <td>    0.5130</td> <td> 6.95e+06</td> <td> 7.38e-08</td> <td> 1.000</td> <td>-1.36e+07</td> <td> 1.36e+07</td>\n",
       "</tr>\n",
       "<tr>\n",
       "  <th>state_22</th>                      <td>    0.4431</td> <td> 6.95e+06</td> <td> 6.38e-08</td> <td> 1.000</td> <td>-1.36e+07</td> <td> 1.36e+07</td>\n",
       "</tr>\n",
       "<tr>\n",
       "  <th>state_23</th>                      <td>    0.3567</td> <td> 6.95e+06</td> <td> 5.13e-08</td> <td> 1.000</td> <td>-1.36e+07</td> <td> 1.36e+07</td>\n",
       "</tr>\n",
       "<tr>\n",
       "  <th>state_24</th>                      <td>   -0.0617</td> <td> 6.95e+06</td> <td>-8.87e-09</td> <td> 1.000</td> <td>-1.36e+07</td> <td> 1.36e+07</td>\n",
       "</tr>\n",
       "<tr>\n",
       "  <th>state_25</th>                      <td>    0.4275</td> <td> 6.95e+06</td> <td> 6.15e-08</td> <td> 1.000</td> <td>-1.36e+07</td> <td> 1.36e+07</td>\n",
       "</tr>\n",
       "<tr>\n",
       "  <th>state_26</th>                      <td>    0.9169</td> <td> 6.95e+06</td> <td> 1.32e-07</td> <td> 1.000</td> <td>-1.36e+07</td> <td> 1.36e+07</td>\n",
       "</tr>\n",
       "<tr>\n",
       "  <th>state_27</th>                      <td>   -0.3951</td> <td> 6.95e+06</td> <td>-5.69e-08</td> <td> 1.000</td> <td>-1.36e+07</td> <td> 1.36e+07</td>\n",
       "</tr>\n",
       "<tr>\n",
       "  <th>state_28</th>                      <td>   -0.6758</td> <td> 6.95e+06</td> <td>-9.73e-08</td> <td> 1.000</td> <td>-1.36e+07</td> <td> 1.36e+07</td>\n",
       "</tr>\n",
       "<tr>\n",
       "  <th>state_29</th>                      <td>   -0.5130</td> <td> 6.95e+06</td> <td>-7.38e-08</td> <td> 1.000</td> <td>-1.36e+07</td> <td> 1.36e+07</td>\n",
       "</tr>\n",
       "<tr>\n",
       "  <th>state_30</th>                      <td>   -0.0603</td> <td> 6.95e+06</td> <td>-8.68e-09</td> <td> 1.000</td> <td>-1.36e+07</td> <td> 1.36e+07</td>\n",
       "</tr>\n",
       "<tr>\n",
       "  <th>state_31</th>                      <td>    0.8388</td> <td> 6.95e+06</td> <td> 1.21e-07</td> <td> 1.000</td> <td>-1.36e+07</td> <td> 1.36e+07</td>\n",
       "</tr>\n",
       "<tr>\n",
       "  <th>state_32</th>                      <td>   -0.4237</td> <td> 6.95e+06</td> <td> -6.1e-08</td> <td> 1.000</td> <td>-1.36e+07</td> <td> 1.36e+07</td>\n",
       "</tr>\n",
       "<tr>\n",
       "  <th>state_33</th>                      <td>    0.4660</td> <td> 6.95e+06</td> <td> 6.71e-08</td> <td> 1.000</td> <td>-1.36e+07</td> <td> 1.36e+07</td>\n",
       "</tr>\n",
       "<tr>\n",
       "  <th>state_34</th>                      <td>    0.4577</td> <td> 6.95e+06</td> <td> 6.59e-08</td> <td> 1.000</td> <td>-1.36e+07</td> <td> 1.36e+07</td>\n",
       "</tr>\n",
       "<tr>\n",
       "  <th>state_35</th>                      <td>   -0.0655</td> <td> 6.95e+06</td> <td>-9.43e-09</td> <td> 1.000</td> <td>-1.36e+07</td> <td> 1.36e+07</td>\n",
       "</tr>\n",
       "<tr>\n",
       "  <th>state_36</th>                      <td>    0.3372</td> <td> 6.95e+06</td> <td> 4.85e-08</td> <td> 1.000</td> <td>-1.36e+07</td> <td> 1.36e+07</td>\n",
       "</tr>\n",
       "<tr>\n",
       "  <th>state_37</th>                      <td>    0.0573</td> <td> 6.95e+06</td> <td> 8.25e-09</td> <td> 1.000</td> <td>-1.36e+07</td> <td> 1.36e+07</td>\n",
       "</tr>\n",
       "<tr>\n",
       "  <th>state_38</th>                      <td>   -0.5121</td> <td> 6.95e+06</td> <td>-7.37e-08</td> <td> 1.000</td> <td>-1.36e+07</td> <td> 1.36e+07</td>\n",
       "</tr>\n",
       "<tr>\n",
       "  <th>state_39</th>                      <td>   -0.8216</td> <td> 6.95e+06</td> <td>-1.18e-07</td> <td> 1.000</td> <td>-1.36e+07</td> <td> 1.36e+07</td>\n",
       "</tr>\n",
       "<tr>\n",
       "  <th>state_40</th>                      <td>    0.1677</td> <td> 6.95e+06</td> <td> 2.41e-08</td> <td> 1.000</td> <td>-1.36e+07</td> <td> 1.36e+07</td>\n",
       "</tr>\n",
       "<tr>\n",
       "  <th>state_41</th>                      <td>    0.0074</td> <td> 6.95e+06</td> <td> 1.07e-09</td> <td> 1.000</td> <td>-1.36e+07</td> <td> 1.36e+07</td>\n",
       "</tr>\n",
       "<tr>\n",
       "  <th>state_42</th>                      <td>    0.1956</td> <td> 6.95e+06</td> <td> 2.82e-08</td> <td> 1.000</td> <td>-1.36e+07</td> <td> 1.36e+07</td>\n",
       "</tr>\n",
       "<tr>\n",
       "  <th>state_43</th>                      <td>    0.4956</td> <td> 6.95e+06</td> <td> 7.13e-08</td> <td> 1.000</td> <td>-1.36e+07</td> <td> 1.36e+07</td>\n",
       "</tr>\n",
       "<tr>\n",
       "  <th>state_44</th>                      <td>   -0.0813</td> <td> 6.95e+06</td> <td>-1.17e-08</td> <td> 1.000</td> <td>-1.36e+07</td> <td> 1.36e+07</td>\n",
       "</tr>\n",
       "<tr>\n",
       "  <th>state_45</th>                      <td>   -1.0876</td> <td> 6.95e+06</td> <td>-1.57e-07</td> <td> 1.000</td> <td>-1.36e+07</td> <td> 1.36e+07</td>\n",
       "</tr>\n",
       "<tr>\n",
       "  <th>state_46</th>                      <td>   -0.7102</td> <td> 6.95e+06</td> <td>-1.02e-07</td> <td> 1.000</td> <td>-1.36e+07</td> <td> 1.36e+07</td>\n",
       "</tr>\n",
       "<tr>\n",
       "  <th>state_47</th>                      <td>    0.6516</td> <td> 6.95e+06</td> <td> 9.38e-08</td> <td> 1.000</td> <td>-1.36e+07</td> <td> 1.36e+07</td>\n",
       "</tr>\n",
       "<tr>\n",
       "  <th>state_48</th>                      <td>   -0.5682</td> <td> 6.95e+06</td> <td>-8.18e-08</td> <td> 1.000</td> <td>-1.36e+07</td> <td> 1.36e+07</td>\n",
       "</tr>\n",
       "<tr>\n",
       "  <th>state_49</th>                      <td>    0.0173</td> <td> 6.95e+06</td> <td> 2.49e-09</td> <td> 1.000</td> <td>-1.36e+07</td> <td> 1.36e+07</td>\n",
       "</tr>\n",
       "<tr>\n",
       "  <th>state_50</th>                      <td>   -0.3355</td> <td> 6.95e+06</td> <td>-4.83e-08</td> <td> 1.000</td> <td>-1.36e+07</td> <td> 1.36e+07</td>\n",
       "</tr>\n",
       "<tr>\n",
       "  <th>international plan_0</th>          <td>   -1.8516</td> <td> 8.35e+06</td> <td>-2.22e-07</td> <td> 1.000</td> <td>-1.64e+07</td> <td> 1.64e+07</td>\n",
       "</tr>\n",
       "<tr>\n",
       "  <th>international plan_1</th>          <td>    0.0556</td> <td> 8.35e+06</td> <td> 6.66e-09</td> <td> 1.000</td> <td>-1.64e+07</td> <td> 1.64e+07</td>\n",
       "</tr>\n",
       "<tr>\n",
       "  <th>voice mail plan_0</th>             <td>   -0.1699</td> <td>  3.7e+06</td> <td>-4.59e-08</td> <td> 1.000</td> <td>-7.26e+06</td> <td> 7.26e+06</td>\n",
       "</tr>\n",
       "<tr>\n",
       "  <th>voice mail plan_1</th>             <td>   -1.6260</td> <td>  3.7e+06</td> <td>-4.39e-07</td> <td> 1.000</td> <td>-7.26e+06</td> <td> 7.26e+06</td>\n",
       "</tr>\n",
       "</table>"
      ],
      "text/plain": [
       "<class 'statsmodels.iolib.summary.Summary'>\n",
       "\"\"\"\n",
       "                           Logit Regression Results                           \n",
       "==============================================================================\n",
       "Dep. Variable:                  Churn   No. Observations:                 3987\n",
       "Model:                          Logit   Df Residuals:                     3923\n",
       "Method:                           MLE   Df Model:                           63\n",
       "Date:                Mon, 18 Feb 2019   Pseudo R-squ.:                  0.1709\n",
       "Time:                        03:37:42   Log-Likelihood:                -1335.3\n",
       "converged:                       True   LL-Null:                       -1610.6\n",
       "                                        LLR p-value:                 5.343e-79\n",
       "=================================================================================================\n",
       "                                    coef    std err          z      P>|z|      [0.025      0.975]\n",
       "-------------------------------------------------------------------------------------------------\n",
       "account length                    0.0619      0.050      1.237      0.216      -0.036       0.160\n",
       "number vmail messages             0.1525      0.213      0.716      0.474      -0.265       0.570\n",
       "total day calls                   0.0509      0.050      1.021      0.307      -0.047       0.149\n",
       "total day charge                  0.5960      0.053     11.212      0.000       0.492       0.700\n",
       "total eve calls                  -0.0528      0.051     -1.038      0.299      -0.152       0.047\n",
       "total eve charge                  0.2453      0.051      4.801      0.000       0.145       0.345\n",
       "total night calls                -0.0030      0.050     -0.059      0.953      -0.101       0.095\n",
       "total night charge                0.2277      0.050      4.521      0.000       0.129       0.326\n",
       "total intl calls                 -0.2605      0.053     -4.936      0.000      -0.364      -0.157\n",
       "total intl charge                 0.1647      0.051      3.231      0.001       0.065       0.265\n",
       "number customer service calls    -0.0023      0.050     -0.046      0.963      -0.100       0.095\n",
       "state_0                          -0.6888   6.95e+06  -9.91e-08      1.000   -1.36e+07    1.36e+07\n",
       "state_1                          -0.3208   6.95e+06  -4.62e-08      1.000   -1.36e+07    1.36e+07\n",
       "state_2                           0.3445   6.95e+06   4.96e-08      1.000   -1.36e+07    1.36e+07\n",
       "state_3                          -0.4538   6.95e+06  -6.53e-08      1.000   -1.36e+07    1.36e+07\n",
       "state_4                           0.9063   6.95e+06    1.3e-07      1.000   -1.36e+07    1.36e+07\n",
       "state_5                          -0.2710   6.95e+06   -3.9e-08      1.000   -1.36e+07    1.36e+07\n",
       "state_6                           0.2718   6.95e+06   3.91e-08      1.000   -1.36e+07    1.36e+07\n",
       "state_7                          -0.3936   6.95e+06  -5.67e-08      1.000   -1.36e+07    1.36e+07\n",
       "state_8                          -0.0080   6.95e+06  -1.16e-09      1.000   -1.36e+07    1.36e+07\n",
       "state_9                          -0.1050   6.95e+06  -1.51e-08      1.000   -1.36e+07    1.36e+07\n",
       "state_10                          0.1881   6.95e+06   2.71e-08      1.000   -1.36e+07    1.36e+07\n",
       "state_11                         -1.0441   6.95e+06   -1.5e-07      1.000   -1.36e+07    1.36e+07\n",
       "state_12                          0.0870   6.95e+06   1.25e-08      1.000   -1.36e+07    1.36e+07\n",
       "state_13                         -0.2051   6.95e+06  -2.95e-08      1.000   -1.36e+07    1.36e+07\n",
       "state_14                         -1.0131   6.95e+06  -1.46e-07      1.000   -1.36e+07    1.36e+07\n",
       "state_15                          0.0574   6.95e+06   8.26e-09      1.000   -1.36e+07    1.36e+07\n",
       "state_16                          0.2063   6.95e+06   2.97e-08      1.000   -1.36e+07    1.36e+07\n",
       "state_17                          0.2837   6.95e+06   4.08e-08      1.000   -1.36e+07    1.36e+07\n",
       "state_18                          0.0307   6.95e+06   4.41e-09      1.000   -1.36e+07    1.36e+07\n",
       "state_19                          0.1199   6.95e+06   1.73e-08      1.000   -1.36e+07    1.36e+07\n",
       "state_20                          0.1738   6.95e+06    2.5e-08      1.000   -1.36e+07    1.36e+07\n",
       "state_21                          0.5130   6.95e+06   7.38e-08      1.000   -1.36e+07    1.36e+07\n",
       "state_22                          0.4431   6.95e+06   6.38e-08      1.000   -1.36e+07    1.36e+07\n",
       "state_23                          0.3567   6.95e+06   5.13e-08      1.000   -1.36e+07    1.36e+07\n",
       "state_24                         -0.0617   6.95e+06  -8.87e-09      1.000   -1.36e+07    1.36e+07\n",
       "state_25                          0.4275   6.95e+06   6.15e-08      1.000   -1.36e+07    1.36e+07\n",
       "state_26                          0.9169   6.95e+06   1.32e-07      1.000   -1.36e+07    1.36e+07\n",
       "state_27                         -0.3951   6.95e+06  -5.69e-08      1.000   -1.36e+07    1.36e+07\n",
       "state_28                         -0.6758   6.95e+06  -9.73e-08      1.000   -1.36e+07    1.36e+07\n",
       "state_29                         -0.5130   6.95e+06  -7.38e-08      1.000   -1.36e+07    1.36e+07\n",
       "state_30                         -0.0603   6.95e+06  -8.68e-09      1.000   -1.36e+07    1.36e+07\n",
       "state_31                          0.8388   6.95e+06   1.21e-07      1.000   -1.36e+07    1.36e+07\n",
       "state_32                         -0.4237   6.95e+06   -6.1e-08      1.000   -1.36e+07    1.36e+07\n",
       "state_33                          0.4660   6.95e+06   6.71e-08      1.000   -1.36e+07    1.36e+07\n",
       "state_34                          0.4577   6.95e+06   6.59e-08      1.000   -1.36e+07    1.36e+07\n",
       "state_35                         -0.0655   6.95e+06  -9.43e-09      1.000   -1.36e+07    1.36e+07\n",
       "state_36                          0.3372   6.95e+06   4.85e-08      1.000   -1.36e+07    1.36e+07\n",
       "state_37                          0.0573   6.95e+06   8.25e-09      1.000   -1.36e+07    1.36e+07\n",
       "state_38                         -0.5121   6.95e+06  -7.37e-08      1.000   -1.36e+07    1.36e+07\n",
       "state_39                         -0.8216   6.95e+06  -1.18e-07      1.000   -1.36e+07    1.36e+07\n",
       "state_40                          0.1677   6.95e+06   2.41e-08      1.000   -1.36e+07    1.36e+07\n",
       "state_41                          0.0074   6.95e+06   1.07e-09      1.000   -1.36e+07    1.36e+07\n",
       "state_42                          0.1956   6.95e+06   2.82e-08      1.000   -1.36e+07    1.36e+07\n",
       "state_43                          0.4956   6.95e+06   7.13e-08      1.000   -1.36e+07    1.36e+07\n",
       "state_44                         -0.0813   6.95e+06  -1.17e-08      1.000   -1.36e+07    1.36e+07\n",
       "state_45                         -1.0876   6.95e+06  -1.57e-07      1.000   -1.36e+07    1.36e+07\n",
       "state_46                         -0.7102   6.95e+06  -1.02e-07      1.000   -1.36e+07    1.36e+07\n",
       "state_47                          0.6516   6.95e+06   9.38e-08      1.000   -1.36e+07    1.36e+07\n",
       "state_48                         -0.5682   6.95e+06  -8.18e-08      1.000   -1.36e+07    1.36e+07\n",
       "state_49                          0.0173   6.95e+06   2.49e-09      1.000   -1.36e+07    1.36e+07\n",
       "state_50                         -0.3355   6.95e+06  -4.83e-08      1.000   -1.36e+07    1.36e+07\n",
       "international plan_0             -1.8516   8.35e+06  -2.22e-07      1.000   -1.64e+07    1.64e+07\n",
       "international plan_1              0.0556   8.35e+06   6.66e-09      1.000   -1.64e+07    1.64e+07\n",
       "voice mail plan_0                -0.1699    3.7e+06  -4.59e-08      1.000   -7.26e+06    7.26e+06\n",
       "voice mail plan_1                -1.6260    3.7e+06  -4.39e-07      1.000   -7.26e+06    7.26e+06\n",
       "=================================================================================================\n",
       "\"\"\""
      ]
     },
     "execution_count": 116,
     "metadata": {},
     "output_type": "execute_result"
    }
   ],
   "source": [
    "# BUILDING LOGISTIC REGRESSION MODEL\n",
    "\n",
    "\n",
    "import statsmodels.api as sm\n",
    "\n",
    "logit_model = sm.Logit(train['Churn'].astype(float), train[train_cols].astype(float)).fit()\n",
    "\n",
    "logit_model.summary()"
   ]
  },
  {
   "cell_type": "code",
   "execution_count": 117,
   "metadata": {},
   "outputs": [
    {
     "name": "stderr",
     "output_type": "stream",
     "text": [
      "C:\\Users\\Ravi\\Anaconda3\\lib\\site-packages\\ipykernel_launcher.py:3: SettingWithCopyWarning: \n",
      "A value is trying to be set on a copy of a slice from a DataFrame.\n",
      "Try using .loc[row_indexer,col_indexer] = value instead\n",
      "\n",
      "See the caveats in the documentation: http://pandas.pydata.org/pandas-docs/stable/indexing.html#indexing-view-versus-copy\n",
      "  This is separate from the ipykernel package so we can avoid doing imports until\n",
      "C:\\Users\\Ravi\\Anaconda3\\lib\\site-packages\\ipykernel_launcher.py:5: SettingWithCopyWarning: \n",
      "A value is trying to be set on a copy of a slice from a DataFrame.\n",
      "Try using .loc[row_indexer,col_indexer] = value instead\n",
      "\n",
      "See the caveats in the documentation: http://pandas.pydata.org/pandas-docs/stable/indexing.html#indexing-view-versus-copy\n",
      "  \"\"\"\n",
      "C:\\Users\\Ravi\\Anaconda3\\lib\\site-packages\\pandas\\core\\indexing.py:543: SettingWithCopyWarning: \n",
      "A value is trying to be set on a copy of a slice from a DataFrame.\n",
      "Try using .loc[row_indexer,col_indexer] = value instead\n",
      "\n",
      "See the caveats in the documentation: http://pandas.pydata.org/pandas-docs/stable/indexing.html#indexing-view-versus-copy\n",
      "  self.obj[item] = s\n"
     ]
    }
   ],
   "source": [
    "# PREDICT THE TEST CASES\n",
    "\n",
    "test['Actual_prob'] = logit_model.predict(test[train_cols])\n",
    "\n",
    "test['ActualVal'] = 1\n",
    "test.loc[test.Actual_prob < 0.5, 'ActualVal'] = 0"
   ]
  },
  {
   "cell_type": "code",
   "execution_count": 118,
   "metadata": {},
   "outputs": [],
   "source": [
    "# BUILD CONFUSION MATRIX\n",
    "\n",
    "CM = pd.crosstab(test['Churn'], test['ActualVal'])\n"
   ]
  },
  {
   "cell_type": "code",
   "execution_count": 119,
   "metadata": {},
   "outputs": [],
   "source": [
    "#LETS SAVE TP, TN, FP, FN\n",
    "\n",
    "TN = CM.iloc[0,0]\n",
    "FN = CM.iloc[1,0]\n",
    "TP = CM.iloc[1,1]\n",
    "FP = CM.iloc[0,1]\n"
   ]
  },
  {
   "cell_type": "code",
   "execution_count": 121,
   "metadata": {},
   "outputs": [
    {
     "data": {
      "text/plain": [
       "86.77196446199407"
      ]
     },
     "execution_count": 121,
     "metadata": {},
     "output_type": "execute_result"
    }
   ],
   "source": [
    "# ACCYRACY OF THE MODEL\n",
    "\n",
    "((TP+TN)*100)/(TP+TN+FP+FN)"
   ]
  },
  {
   "cell_type": "code",
   "execution_count": 122,
   "metadata": {},
   "outputs": [
    {
     "data": {
      "text/plain": [
       "82.11920529801324"
      ]
     },
     "execution_count": 122,
     "metadata": {},
     "output_type": "execute_result"
    }
   ],
   "source": [
    "# FALSE NEGATIVE RATE\n",
    "\n",
    "(FN*100)/(FN+TP)\n"
   ]
  },
  {
   "cell_type": "code",
   "execution_count": null,
   "metadata": {},
   "outputs": [],
   "source": [
    "\n"
   ]
  }
 ],
 "metadata": {
  "kernelspec": {
   "display_name": "Python 3",
   "language": "python",
   "name": "python3"
  },
  "language_info": {
   "codemirror_mode": {
    "name": "ipython",
    "version": 3
   },
   "file_extension": ".py",
   "mimetype": "text/x-python",
   "name": "python",
   "nbconvert_exporter": "python",
   "pygments_lexer": "ipython3",
   "version": "3.7.1"
  }
 },
 "nbformat": 4,
 "nbformat_minor": 2
}
